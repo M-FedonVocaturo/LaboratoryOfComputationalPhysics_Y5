{
 "cells": [
  {
   "cell_type": "markdown",
   "metadata": {},
   "source": [
    "# Modules/packages/libraries\n",
    "\n",
    "Definitions:\n",
    "\n",
    "  * Modules:\n",
    "  A module is a file which contains python functions, global variables etc. It is nothing but .py file which has python executable code / statement.\n",
    "\n",
    "  * Packages:\n",
    "  A package is a namespace which contains multiple package/modules. It is a directory which contains a special file `__init__.py`\n",
    "  \n",
    "  * Libraries:\n",
    "  A library is a collection of various packages. There is no difference between package and python library conceptually.\n",
    "  \n",
    "Modules/packages/libraries can be easily \"imported\" and made functional in your python code. A set of libriaries comes with every python installation. Others can be installed locally and then imported. Your own code sitting somewhere else in your local computer can be imported too.\n",
    "\n",
    "Further details (very important!) on packages and how to create them can be found online. We may find the need of creating our own during the course.\n",
    "\n",
    "-> import\n",
    "\n",
    "useful for instance for matrix diag, inversion, etc...\n",
    "\n",
    "Good documentation for most of the libraries \n",
    "\n",
    "during the exam you will have the access to python.org, numphy, etc...\n",
    "\n",
    "random numbers from numphy,\n",
    "\n",
    "pandas,\n",
    "\n",
    "scipy good for linear algebra\n"
   ]
  },
  {
   "cell_type": "code",
   "execution_count": 8,
   "metadata": {},
   "outputs": [
    {
     "name": "stdout",
     "output_type": "stream",
     "text": [
      "3.141592653589793\n",
      "3.141592653589793\n",
      "3.141592653589793\n",
      "3.0\n",
      "2.718281828459045\n"
     ]
    }
   ],
   "source": [
    "#different ways to import a library\n",
    "\n",
    "###### all the \"stuff\" that is in the math library can be used\n",
    "# math is useful for constants, PI, e, etc... also functions tan, atan etc\n",
    "\n",
    "import math\n",
    "print(math.pi) #pi\n",
    "\n",
    "# MOST CONVENIENT WAY\n",
    "# you can give math a label for convenience\n",
    "# useful for libraries with long names, instead of using a long name you can call the library with a shorter name\n",
    "# import longnamelib as shortnamelib\n",
    "import math as m\n",
    "print (m.pi)\n",
    "\n",
    "# alternatively you can import only a given \"thing\" from the library\n",
    "# for instance only a constant, or a function, inside a given library/module/package\n",
    "# from libname import object \n",
    "from math import pi    #you can add several libraries at once, just list them separated by a \", \"\n",
    "print (pi)\n",
    "\n",
    "\n",
    "# or just get everything (very dangerous!!!)\n",
    "# if you don't want to call libname.obj but only obj, you can import everything in a lib\n",
    "# not safe, try to avoid that\n",
    "from math import *\n",
    "print (sqrt(9))\n",
    "print (e)\n"
   ]
  },
  {
   "cell_type": "markdown",
   "metadata": {},
   "source": [
    "To know which modules are there for you to use just type:"
   ]
  },
  {
   "cell_type": "code",
   "execution_count": null,
   "metadata": {},
   "outputs": [
    {
     "name": "stdout",
     "output_type": "stream",
     "text": [
      "\n",
      "Please wait a moment while I gather a list of all available modules...\n",
      "\n"
     ]
    },
    {
     "name": "stderr",
     "output_type": "stream",
     "text": [
      "/opt/ubuntu-16.04/conda/lib/python3.6/site-packages/IPython/kernel/__init__.py:13: ShimWarning: The `IPython.kernel` package has been deprecated since IPython 4.0.You should import from ipykernel or jupyter_client instead.\n",
      "  \"You should import from ipykernel or jupyter_client instead.\", ShimWarning)\n",
      "WARNING: AstropyDeprecationWarning: The astropy.vo.samp module has now been moved to astropy.samp [astropy.vo.samp]\n",
      "WARNING: Logging before flag parsing goes to stderr.\n",
      "W1019 10:59:54.186621 140617596622592 logger.py:220] AstropyDeprecationWarning: The astropy.vo.samp module has now been moved to astropy.samp\n",
      "/opt/ubuntu-16.04/conda/lib/python3.6/site-packages/odo/backends/pandas.py:102: FutureWarning: pandas.tslib is deprecated and will be removed in a future version.\n",
      "You can access NaTType as type(pandas.NaT)\n",
      "  @convert.register((pd.Timestamp, pd.Timedelta), (pd.tslib.NaTType, type(None)))\n",
      "Using TensorFlow backend.\n",
      "/opt/ubuntu-16.04/conda/lib/python3.6/site-packages/nltk/twitter/__init__.py:20: UserWarning: The twython library has not been installed. Some functionality from the twitter package will not be available.\n",
      "  warnings.warn(\"The twython library has not been installed. \"\n"
     ]
    },
    {
     "name": "stdout",
     "output_type": "stream",
     "text": [
      "cc1plus: warning: command line option ‘-Wstrict-prototypes’ is valid for C/ObjC but not for C++\n",
      "Running paysage with the python backend on the cpu\n"
     ]
    },
    {
     "name": "stderr",
     "output_type": "stream",
     "text": [
      "/opt/ubuntu-16.04/conda/lib/python3.6/site-packages/skimage/viewer/utils/core.py:10: UserWarning: Recommended matplotlib backend is `Agg` for full skimage.viewer functionality.\n",
      "  warn(\"Recommended matplotlib backend is `Agg` for full \"\n",
      "/opt/ubuntu-16.04/conda/lib/python3.6/site-packages/statsmodels/compat/pandas.py:56: FutureWarning: The pandas.core.datetools module is deprecated and will be removed in a future version. Please use the pandas.tseries module instead.\n",
      "  from pandas.core import datetools\n"
     ]
    }
   ],
   "source": [
    "print (help('modules') ) # to get all the list of the modules that are available\n",
    " "
   ]
  },
  {
   "cell_type": "markdown",
   "metadata": {},
   "source": [
    "`pip` is a special package. It is used from the command line to install properly (e.g. matching the version of the local packages) new packages. It can also be used from within python to check i.e. the set installed packages and their versions. N.B.: only the installed packages on top of the default ones will be listed \n",
    "\n",
    "\n",
    "pip is executable, pip install a given library, it's going to install that lib \n",
    "\n",
    "here in notebook pip is a python library, that allows to do the same things, i.e. install a certain version of a library, it checks automatically the compatibility"
   ]
  },
  {
   "cell_type": "code",
   "execution_count": 1,
   "metadata": {},
   "outputs": [
    {
     "ename": "AttributeError",
     "evalue": "module 'pip' has no attribute '_internal'",
     "output_type": "error",
     "traceback": [
      "\u001b[0;31m---------------------------------------------------------------------------\u001b[0m",
      "\u001b[0;31mAttributeError\u001b[0m                            Traceback (most recent call last)",
      "\u001b[0;32m<ipython-input-1-9212bc00f43a>\u001b[0m in \u001b[0;36m<module>\u001b[0;34m\u001b[0m\n\u001b[1;32m      1\u001b[0m \u001b[0;32mimport\u001b[0m \u001b[0mpip\u001b[0m\u001b[0;34m\u001b[0m\u001b[0;34m\u001b[0m\u001b[0m\n\u001b[0;32m----> 2\u001b[0;31m \u001b[0msorted\u001b[0m\u001b[0;34m(\u001b[0m\u001b[0;34m[\u001b[0m\u001b[0;34m\"%s==%s\"\u001b[0m \u001b[0;34m%\u001b[0m \u001b[0;34m(\u001b[0m\u001b[0mi\u001b[0m\u001b[0;34m.\u001b[0m\u001b[0mkey\u001b[0m\u001b[0;34m,\u001b[0m \u001b[0mi\u001b[0m\u001b[0;34m.\u001b[0m\u001b[0mversion\u001b[0m\u001b[0;34m)\u001b[0m \u001b[0;32mfor\u001b[0m \u001b[0mi\u001b[0m \u001b[0;32min\u001b[0m \u001b[0mpip\u001b[0m\u001b[0;34m.\u001b[0m\u001b[0m_internal\u001b[0m\u001b[0;34m.\u001b[0m\u001b[0mutils\u001b[0m\u001b[0;34m.\u001b[0m\u001b[0mmisc\u001b[0m\u001b[0;34m.\u001b[0m\u001b[0mget_installed_distributions\u001b[0m\u001b[0;34m(\u001b[0m\u001b[0;34m)\u001b[0m\u001b[0;34m]\u001b[0m\u001b[0;34m)\u001b[0m\u001b[0;34m\u001b[0m\u001b[0;34m\u001b[0m\u001b[0m\n\u001b[0m",
      "\u001b[0;31mAttributeError\u001b[0m: module 'pip' has no attribute '_internal'"
     ]
    }
   ],
   "source": [
    "import pip\n",
    "sorted([\"%s==%s\" % (i.key, i.version) for i in pip._internal.utils.misc.get_installed_distributions()])"
   ]
  },
  {
   "cell_type": "markdown",
   "metadata": {},
   "source": [
    "# Functions"
   ]
  },
  {
   "cell_type": "code",
   "execution_count": 3,
   "metadata": {},
   "outputs": [
    {
     "name": "stdout",
     "output_type": "stream",
     "text": [
      "9\n",
      "27\n",
      "cube 27\n",
      "square 9\n"
     ]
    }
   ],
   "source": [
    "def square(x):\n",
    "    \"\"\"Square of x.\"\"\"\n",
    "    return x*x\n",
    "\n",
    "def cube(x):\n",
    "    \"\"\"Cube of x.\"\"\"\n",
    "    return x*x*x\n",
    "\n",
    "# create a dictionary of functions\n",
    "funcs = {\n",
    "    'square': square,\n",
    "    'cube': cube,\n",
    "}\n",
    "\n",
    "x = 3\n",
    "print(square(x))\n",
    "print(cube(x))\n",
    "\n",
    "for func in sorted(funcs): #sorting is alphabetical \n",
    "    print (func, funcs[func](x)) "
   ]
  },
  {
   "cell_type": "markdown",
   "metadata": {},
   "source": [
    "## Functions arguments"
   ]
  },
  {
   "cell_type": "markdown",
   "metadata": {},
   "source": [
    "What is passsed to a function is a copy of the input. Imagine we have a list *x =[1, 2, 3]*, i.e. a mutable object. If within the function the content of *x* is directly changed (e.g. *x[0] = 999*), then *x* changes outside the funciton as well. "
   ]
  },
  {
   "cell_type": "code",
   "execution_count": 4,
   "metadata": {},
   "outputs": [
    {
     "name": "stdout",
     "output_type": "stream",
     "text": [
      "[1, 2, 3]\n",
      "[999, 2, 3]\n",
      "[999, 2, 3]\n"
     ]
    }
   ],
   "source": [
    "def modify(x):\n",
    "    x[0] = 999\n",
    "    return x\n",
    "\n",
    "x = [1,2,3]\n",
    "print (x)\n",
    "print (modify(x))  #here x is modified permanently\n",
    "print (x)"
   ]
  },
  {
   "cell_type": "markdown",
   "metadata": {},
   "source": [
    "However, if *x* is reassigned within the function to a new object (e.g. another list), then the copy of the name *x* now points to the new object, but *x* outside the function is unhcanged."
   ]
  },
  {
   "cell_type": "code",
   "execution_count": 6,
   "metadata": {},
   "outputs": [
    {
     "name": "stdout",
     "output_type": "stream",
     "text": [
      "[1, 2, 3]\n",
      "[4, 5, 6]\n",
      "[1, 2, 3]\n"
     ]
    }
   ],
   "source": [
    "def no_modify(x):\n",
    "    x = [4,5,6] #you assign to a new object with same name\n",
    "    return x\n",
    "\n",
    "x = [1,2,3]\n",
    "print (x)\n",
    "print (no_modify(x))\n",
    "print (x)\n",
    "\n"
   ]
  },
  {
   "cell_type": "markdown",
   "metadata": {},
   "source": [
    "What if the function tries to modify the value of an immutable object?"
   ]
  },
  {
   "cell_type": "code",
   "execution_count": null,
   "metadata": {},
   "outputs": [],
   "source": [
    "#to do\n",
    " "
   ]
  },
  {
   "cell_type": "markdown",
   "metadata": {},
   "source": [
    "Binding of default arguments occurs at function definition:"
   ]
  },
  {
   "cell_type": "code",
   "execution_count": 7,
   "metadata": {},
   "outputs": [
    {
     "name": "stdout",
     "output_type": "stream",
     "text": [
      "[1]\n",
      "[1, 1]\n",
      "[9, 9, 9, 1]\n",
      "[1, 1, 1]\n",
      "[1, 1, 1, 1]\n"
     ]
    }
   ],
   "source": [
    "def f(x = []):\n",
    "    x.append(1)\n",
    "    return x\n",
    "\n",
    "print (f())\n",
    "print (f())\n",
    "print (f(x = [9,9,9])) #this value x=[9,9,9] is lost!!\n",
    "print (f())\n",
    "print (f())"
   ]
  },
  {
   "cell_type": "markdown",
   "metadata": {},
   "source": [
    "Try to aviod that!!"
   ]
  },
  {
   "cell_type": "code",
   "execution_count": 10,
   "metadata": {},
   "outputs": [
    {
     "name": "stdout",
     "output_type": "stream",
     "text": [
      "[1]\n",
      "[1]\n",
      "[9, 9, 9, 1]\n",
      "[1]\n",
      "[1]\n"
     ]
    }
   ],
   "source": [
    "def f(x = None):\n",
    "    if x is None:\n",
    "        x = []\n",
    "    x.append(1)\n",
    "    return x\n",
    "\n",
    "print (f())\n",
    "print (f())\n",
    "print (f(x = [9,9,9]))\n",
    "print (f())\n",
    "print (f())"
   ]
  },
  {
   "cell_type": "markdown",
   "metadata": {},
   "source": [
    "## Higher order functions\n",
    "\n",
    "A function that uses another function as an input argument or returns a function is known as a higher-order function (HOF). The most familiar examples are `map` and `filter`.\n",
    "\n",
    "\n",
    "functions that take other functions in input!\n",
    "convenient, in terms of efficiency and compactness of code that you write"
   ]
  },
  {
   "cell_type": "markdown",
   "metadata": {},
   "source": [
    "### map\n",
    "\n",
    "The map function applies a function to each member of a collection\n",
    "\n",
    "takes a given function and applies it to a data structure"
   ]
  },
  {
   "cell_type": "code",
   "execution_count": 11,
   "metadata": {},
   "outputs": [
    {
     "name": "stdout",
     "output_type": "stream",
     "text": [
      "[0, 1, 4, 9, 16]\n",
      "0\n",
      "1\n",
      "4\n",
      "9\n",
      "16\n"
     ]
    },
    {
     "data": {
      "text/plain": [
       "[0, 1, 4, 9, 16, 25]"
      ]
     },
     "execution_count": 11,
     "metadata": {},
     "output_type": "execute_result"
    }
   ],
   "source": [
    "x = list(map(square, range(5)))  #applies square to all the number in range 5 (e.g. between 0,1,2,3,4)\n",
    "print (x)\n",
    "\n",
    "# Note the difference w.r.t python 2. In python 3 map retuns an iterator so you can do stuff like:\n",
    "#for loop\n",
    "for i in map(square,range(5)): print(i)\n",
    "\n",
    "# or with list comprehension\n",
    "[i for i in map(square,range(6))]"
   ]
  },
  {
   "cell_type": "markdown",
   "metadata": {},
   "source": [
    "### filter\n",
    "\n",
    "The filter function applies a predicate to each member of a collection, retaining only those members where the predicate is True\n",
    "\n",
    "applies a function to each memeber of a coolection, that memeber is kept if the result of the function applied to the element is true\n",
    "\n",
    "instead if the function returns false then it drops\n",
    "\n",
    "you might have a function that returns a boolean\n",
    "\n",
    "casting to a boolean of integers\n",
    "\n",
    "0 is 0, all the other numbers are casted to 1 by default"
   ]
  },
  {
   "cell_type": "code",
   "execution_count": 13,
   "metadata": {},
   "outputs": [
    {
     "name": "stdout",
     "output_type": "stream",
     "text": [
      "[0, 2, 4]\n"
     ]
    }
   ],
   "source": [
    "def is_even(x):\n",
    "    return x%2 == 0 #it returns 0 if true, all other values when casted returns 1 e.g. false\n",
    "\n",
    "print (list(filter(is_even, range(5))))"
   ]
  },
  {
   "cell_type": "markdown",
   "metadata": {},
   "source": [
    "Combinations in sequence of HOF are obviously possible"
   ]
  },
  {
   "cell_type": "code",
   "execution_count": 14,
   "metadata": {},
   "outputs": [
    {
     "data": {
      "text/plain": [
       "[0, 4, 16]"
      ]
     },
     "execution_count": 14,
     "metadata": {},
     "output_type": "execute_result"
    }
   ],
   "source": [
    "list(map(square, filter(is_even, range(5)))) # find out a subset where the filter is applied, then square the members"
   ]
  },
  {
   "cell_type": "markdown",
   "metadata": {},
   "source": [
    "### reduce\n",
    "\n",
    "The reduce function reduces a collection using a binary operator to combine items two at a time. More often than not reduce can be substituted with a more efficient for loop. It is worth mentioning it for its key role in big-data applications together with map (the map-reduce paradigm). \n",
    "N.B.: it no loger exist as built-in function in python 3, it is now part of the `functools` library\n",
    "\n",
    "\n",
    "useful when you have big data, that are distributed in smaller subsets\n",
    "you distribute in different pc,\n",
    "you need to collect all the results, you need to collect and obtain the final result by using Reduce\n",
    "\n",
    "Reduce is not native in Python, you need to import it from functools library\n"
   ]
  },
  {
   "cell_type": "code",
   "execution_count": 15,
   "metadata": {},
   "outputs": [
    {
     "data": {
      "text/plain": [
       "15"
      ]
     },
     "execution_count": 15,
     "metadata": {},
     "output_type": "execute_result"
    }
   ],
   "source": [
    "from functools import reduce\n",
    "\n",
    "def my_add(x, y):\n",
    "    return x + y\n",
    "\n",
    "# another implementation of the sum function\n",
    "reduce(my_add, [1,2,3,4,5])"
   ]
  },
  {
   "cell_type": "markdown",
   "metadata": {},
   "source": [
    "### zip\n",
    "\n",
    "zip is useful when you need to iterate over matched elements of multiple lists\n",
    "\n",
    "very convenient, you have list of numbers and want to combine them 1 by 1 depending on the position that they have\n",
    "\n"
   ]
  },
  {
   "cell_type": "code",
   "execution_count": 23,
   "metadata": {},
   "outputs": [
    {
     "name": "stdout",
     "output_type": "stream",
     "text": [
      "1 10 a\n",
      "2 20 b\n",
      "3 30 c\n",
      "4 40 d\n"
     ]
    }
   ],
   "source": [
    "xs = [1, 2, 3, 4]\n",
    "ys = [10, 20, 30, 40]\n",
    "zs = ['a', 'b', 'c', 'd', 'e'] #if one of the list is longer than the other, zip goes on only up to the shortest list\n",
    "\n",
    "for x, y, z in zip(xs, ys, zs): #you pass to zip 3 lists\n",
    "    print (x, y, z)"
   ]
  },
  {
   "cell_type": "markdown",
   "metadata": {},
   "source": [
    "### Custom HOF\n",
    "\n",
    "pay attention, when you run a new cell redefining a built in function, it may not work"
   ]
  },
  {
   "cell_type": "code",
   "execution_count": 33,
   "metadata": {},
   "outputs": [
    {
     "name": "stdout",
     "output_type": "stream",
     "text": [
      "30\n",
      "100\n"
     ]
    }
   ],
   "source": [
    "def custom_sum(xs, transform): #xs could be a list, dictionary,... you don't need to specify\n",
    "    #transform needs to be a function\n",
    "    \"\"\"Returns the sum of xs after a user specified transform.\"\"\"\n",
    "    return sum(map(transform, xs)) \n",
    "\n",
    "xs = range(5)\n",
    "print (custom_sum(xs, square))\n",
    "print (custom_sum(xs, cube))\n",
    "\n"
   ]
  },
  {
   "cell_type": "markdown",
   "metadata": {},
   "source": [
    "### Returning a function\n",
    "\n",
    "you can define a function that returns a function"
   ]
  },
  {
   "cell_type": "code",
   "execution_count": 37,
   "metadata": {},
   "outputs": [],
   "source": [
    "def make_logger(target):\n",
    "    def logger(data):\n",
    "        with open(target, 'a') as f:  #open a file\n",
    "            f.write(data + '\\n') #write inside\n",
    "    return logger\n",
    "\n",
    "foo_logger = make_logger('foo.txt') #foo.txt will be created if not there already\n",
    "foo_logger('Hello')\n",
    "foo_logger('World')\n",
    "\n",
    "#if you run it again, it will write and append again hello world!"
   ]
  },
  {
   "cell_type": "code",
   "execution_count": 35,
   "metadata": {},
   "outputs": [
    {
     "name": "stdout",
     "output_type": "stream",
     "text": [
      "Hello\r\n",
      "World\r\n"
     ]
    }
   ],
   "source": [
    "! cat 'foo.txt'          # '!' will allow to execute a command in your bash"
   ]
  },
  {
   "cell_type": "markdown",
   "metadata": {},
   "source": [
    "## Anonimous functions (lambda)\n",
    "\n",
    "When using functional style, there is often the need to create specific functions that perform a limited task as input to a HOF such as map or filter. In such cases, these functions are often written as anonymous or lambda functions. \n",
    "The syntax is as follows:\n",
    "\n",
    "lambda *arguments* : *expression*\n",
    "\n",
    "\n",
    "If you find it hard to understand what a lambda function is doing, it should probably be rewritten as a regular function.\n",
    "\n",
    "\n",
    "you don't need to give a name to every function"
   ]
  },
  {
   "cell_type": "code",
   "execution_count": 38,
   "metadata": {},
   "outputs": [
    {
     "data": {
      "text/plain": [
       "7"
      ]
     },
     "execution_count": 38,
     "metadata": {},
     "output_type": "execute_result"
    }
   ],
   "source": [
    "sum_new = lambda x,y: x+y\n",
    "sum_new(3,4)"
   ]
  },
  {
   "cell_type": "code",
   "execution_count": 41,
   "metadata": {},
   "outputs": [
    {
     "data": {
      "text/plain": [
       "7"
      ]
     },
     "execution_count": 41,
     "metadata": {},
     "output_type": "execute_result"
    }
   ],
   "source": [
    "(lambda x,y: x+y)(3,4)"
   ]
  },
  {
   "cell_type": "code",
   "execution_count": 39,
   "metadata": {},
   "outputs": [
    {
     "name": "stdout",
     "output_type": "stream",
     "text": [
      "0\n",
      "1\n",
      "4\n",
      "9\n",
      "16\n"
     ]
    }
   ],
   "source": [
    "for i in map(lambda x: x*x, range(5)): print (i)"
   ]
  },
  {
   "cell_type": "code",
   "execution_count": 40,
   "metadata": {},
   "outputs": [
    {
     "name": "stdout",
     "output_type": "stream",
     "text": [
      "285\n"
     ]
    }
   ],
   "source": [
    "# what does this function do?\n",
    "#convenient, e.g. in this case you should have defined another function for the square\n",
    "\n",
    "from functools import reduce\n",
    "s1 = reduce(lambda x, y: x+y, map(lambda x: x**2, range(1,10)))\n",
    "print(s1)\n"
   ]
  },
  {
   "cell_type": "markdown",
   "metadata": {},
   "source": [
    "## Recursive functions \n",
    "\n",
    "function that calls itself within its scope!!!\n",
    "e.g. Fibonacci sequence"
   ]
  },
  {
   "cell_type": "code",
   "execution_count": 42,
   "metadata": {},
   "outputs": [
    {
     "name": "stdout",
     "output_type": "stream",
     "text": [
      "[1, 1, 2, 3, 5, 8, 13, 21, 34, 55]\n"
     ]
    }
   ],
   "source": [
    "def fib1(n):\n",
    "    \"\"\"Fib with recursion.\"\"\"\n",
    "\n",
    "    # base case\n",
    "    if n==0 or n==1:\n",
    "        return 1\n",
    "    # recursive case\n",
    "    else:\n",
    "        return fib1(n-1) + fib1(n-2)\n",
    "\n",
    "    \n",
    "print ([fib1(i) for i in range(10)])"
   ]
  },
  {
   "cell_type": "code",
   "execution_count": 31,
   "metadata": {},
   "outputs": [
    {
     "name": "stdout",
     "output_type": "stream",
     "text": [
      "[1, 1, 2, 3, 5, 8, 13, 21, 34, 55]\n"
     ]
    }
   ],
   "source": [
    "# In Python, a more efficient version that does not use recursion is\n",
    "\n",
    "def fib2(n):\n",
    "    \"\"\"Fib without recursion.\"\"\"\n",
    "    a, b = 0, 1\n",
    "    for i in range(1, n+1):\n",
    "        a, b = b, a+b\n",
    "    return b\n",
    "\n",
    "print ([fib2(i) for i in range(10)])"
   ]
  },
  {
   "cell_type": "code",
   "execution_count": 44,
   "metadata": {},
   "outputs": [
    {
     "name": "stdout",
     "output_type": "stream",
     "text": [
      "2.19 ms ± 8.72 µs per loop (mean ± std. dev. of 7 runs, 100 loops each)\n",
      "849 ns ± 4.08 ns per loop (mean ± std. dev. of 7 runs, 1000000 loops each)\n"
     ]
    }
   ],
   "source": [
    "# check indeed the timing:\n",
    "# compare which version is faster, estimates how long does it takes!!\n",
    "\n",
    "%timeit fib1(20)\n",
    "%timeit fib2(20)\n"
   ]
  },
  {
   "cell_type": "markdown",
   "metadata": {},
   "source": [
    "## Iterators\n",
    "\n",
    "Iterators represent streams of values. Because only one value is consumed at a time, they use very little memory. Use of iterators is very helpful for working with data sets too large to fit into RAM."
   ]
  },
  {
   "cell_type": "code",
   "execution_count": 49,
   "metadata": {},
   "outputs": [
    {
     "name": "stdout",
     "output_type": "stream",
     "text": [
      "1\n",
      "2\n",
      "3\n"
     ]
    }
   ],
   "source": [
    "# Iterators can be created from sequences with the built-in function iter()\n",
    "# next checks the next element\n",
    "\n",
    "xs = [1,2,3]\n",
    "x_iter = iter(xs)\n",
    "\n",
    "print (next(x_iter))\n",
    "print (next(x_iter))\n",
    "print (next(x_iter))\n",
    "#print (next(x_iter))      #if you reach the end of the list there is an error!!"
   ]
  },
  {
   "cell_type": "code",
   "execution_count": 47,
   "metadata": {},
   "outputs": [
    {
     "name": "stdout",
     "output_type": "stream",
     "text": [
      "1\n",
      "2\n",
      "3\n"
     ]
    }
   ],
   "source": [
    "# Most commonly, iterators are used (automatically) within a for loop\n",
    "# which terminates when it encouters a StopIteration exception\n",
    "\n",
    "x_iter = iter(xs)\n",
    "for x in x_iter:\n",
    "    print (x)"
   ]
  },
  {
   "cell_type": "markdown",
   "metadata": {},
   "source": [
    "## More on comprehensions"
   ]
  },
  {
   "cell_type": "code",
   "execution_count": 51,
   "metadata": {},
   "outputs": [
    {
     "name": "stdout",
     "output_type": "stream",
     "text": [
      "<generator object <genexpr> at 0x7fa4805ae8e0>\n",
      "[0, 1, 4, 9, 16, 25, 36, 49, 64, 81]\n",
      "{0, 1, 2, 3, 4, 5, 6, 7, 8, 9}\n",
      "{0: 'x', 1: 'x', 2: 'x', 3: 'x', 4: 'x', 5: 'x', 6: 'x', 7: 'x', 8: 'x', 9: 'x'}\n"
     ]
    }
   ],
   "source": [
    "# A generator expression\n",
    "\n",
    "print ((x for x in range(10)))\n",
    "\n",
    "# A list comprehesnnion\n",
    "\n",
    "print ([x**2 for x in range(10)])\n",
    "\n",
    "# A set comprehension\n",
    "\n",
    "print ({x for x in range(10)})\n",
    "\n",
    "# A dictionary comprehension\n",
    "\n",
    "print ({x: \"x\" for x in range(10)})"
   ]
  },
  {
   "cell_type": "markdown",
   "metadata": {},
   "source": [
    "## Useful Modules\n",
    "\n",
    "You may want to have a look at the content of the following modules for further usage of (HO) functions:\n",
    "  - [operator](https://docs.python.org/3/library/operator.html)\n",
    "  - [functools](https://docs.python.org/3/library/functools.html)\n",
    "  - [itertools](https://docs.python.org/3/library/itertools.html)\n",
    "  - [toolz](https://pypi.org/project/toolz/)\n",
    "  - [funcy](https://pypi.org/project/funcy/)\n",
    "  \n",
    "  these libraries are already in, you need just to import them"
   ]
  },
  {
   "cell_type": "markdown",
   "metadata": {},
   "source": [
    "## Decorators\n",
    "\n",
    "Decorators are a type of HOF that take a function and return a wrapped function that provides additional useful properties.\n",
    "\n",
    "Examples:\n",
    "\n",
    "  - logging\n",
    "  - profiling\n",
    "  - Just-In-Time (JIT) compilation\n",
    "  \n",
    "  \n",
    "very fancy to use, they're used to logging and checking time performances  (profiling)"
   ]
  },
  {
   "cell_type": "code",
   "execution_count": 53,
   "metadata": {},
   "outputs": [],
   "source": [
    "def my_decorator(func):\n",
    "    def wrapper():\n",
    "        print(\"Something is happening before the function is called.\")\n",
    "        func()\n",
    "        print(\"Something is happening after the function is called.\")\n",
    "    return wrapper\n",
    "\n",
    "def say_whee():\n",
    "    print(\"Whee!\")\n",
    "\n",
    "say_whee = my_decorator(say_whee)"
   ]
  },
  {
   "cell_type": "code",
   "execution_count": 54,
   "metadata": {},
   "outputs": [
    {
     "name": "stdout",
     "output_type": "stream",
     "text": [
      "Something is happening before the function is called.\n",
      "Whee!\n",
      "Something is happening after the function is called.\n"
     ]
    }
   ],
   "source": [
    "say_whee()"
   ]
  },
  {
   "cell_type": "markdown",
   "metadata": {},
   "source": [
    "Python allows you to use decorators in a simpler way with the @ symbol, sometimes called the “pie” syntax\n",
    "\n",
    "slightly different syntax"
   ]
  },
  {
   "cell_type": "code",
   "execution_count": 57,
   "metadata": {},
   "outputs": [],
   "source": [
    "def my_decorator(func):\n",
    "    def wrapper():\n",
    "        print(\"Something is happening before the function is called.\")\n",
    "        func()\n",
    "        print(\"Something is happening after the function is called.\")\n",
    "    return wrapper\n",
    "\n",
    "\n",
    "#another way to do the same thing as the previous cell \n",
    "@my_decorator\n",
    "def say_whee():\n",
    "    print(\"Whee!\")"
   ]
  },
  {
   "cell_type": "code",
   "execution_count": 58,
   "metadata": {},
   "outputs": [
    {
     "name": "stdout",
     "output_type": "stream",
     "text": [
      "Something is happening before the function is called.\n",
      "Whee!\n",
      "Something is happening after the function is called.\n"
     ]
    }
   ],
   "source": [
    "say_whee()"
   ]
  },
  {
   "cell_type": "markdown",
   "metadata": {},
   "source": [
    "# Classes and Objects\n",
    "\n",
    "Old school object-oriented programming is possible and often used in python. Classes are defined similarly to standard object-oriented languages, with similar functionalities.\n",
    "\n",
    "The main python doc [page](https://docs.python.org/3/tutorial/classes.html) is worth reading through \n",
    "\n",
    "See the link for more info on the syntax\n",
    "\n",
    "in the past fortran, then c++, then object orientation was implemented \n",
    "\n",
    "in the 90s obj were a trend\n",
    "\n",
    "nowadays classes are not so a big deal\n"
   ]
  },
  {
   "cell_type": "code",
   "execution_count": 66,
   "metadata": {},
   "outputs": [
    {
     "name": "stdout",
     "output_type": "stream",
     "text": [
      "buddy 12\n",
      "3\n"
     ]
    }
   ],
   "source": [
    "#you define a new \"variable\" but more sophisticated\n",
    "#it has inside its own variables and methods!!\n",
    "\n",
    "class Pet:\n",
    "    # the \"constructor\" as its called in c++\n",
    "        def __init__(self, name, age):  #inizialize the elements of the class\n",
    "            self.name=name #self \n",
    "            self.age=age\n",
    "        # name and age belong to the class, when you call the constructor you need to provide name and age\n",
    "        \n",
    "    # class functions take the \"self\" parameter !!!\n",
    "        def set_name(self,name):\n",
    "            self.name=name\n",
    "        def convert_age(self,factor):\n",
    "            self.age*=factor\n",
    "\n",
    "buddy=Pet(\"buddy\",12)\n",
    "print (buddy.name, buddy.age)\n",
    "buddy.age=3\n",
    "print (buddy.age)\n",
    "\n",
    "\n",
    "#NOTE in python everything is public!!!\n",
    "#in C++ public and privates, then you can have inherited derived classes tha further develop a more general class\n",
    "#deriving from the base one but with further specification\n",
    "\n"
   ]
  },
  {
   "cell_type": "code",
   "execution_count": 71,
   "metadata": {},
   "outputs": [
    {
     "name": "stdout",
     "output_type": "stream",
     "text": [
      "tobia\n",
      "70\n"
     ]
    }
   ],
   "source": [
    "# ineritance is straightforward\n",
    "\n",
    "# the variable of the parent class are already implemented and available\n",
    "# you have all the base class variables and methods\n",
    "class Dog(Pet):\n",
    "    # the following variables is \"global\", i.e. holds for all \"Dog\" objects\n",
    "    species = \"mammal\"\n",
    "    # functions can be redefined as usual\n",
    "    def convert_age(self):  #function belongin only to the inherited class!!\n",
    "        self.age*=7\n",
    "    def set_species(self, species):\n",
    "        self.species = species\n",
    "        \n",
    "puppy=Dog(\"tobia\",10)\n",
    "print(puppy.name)\n",
    "puppy.convert_age()\n",
    "print(puppy.age)\n",
    "\n",
    "\n",
    "#note you may have the same function in base class and inherited one\n",
    "#you can redefine the same function in a different way in the derived class!!\n"
   ]
  },
  {
   "cell_type": "code",
   "execution_count": null,
   "metadata": {},
   "outputs": [],
   "source": []
  }
 ],
 "metadata": {
  "kernelspec": {
   "display_name": "Python 3",
   "language": "python",
   "name": "python3"
  },
  "language_info": {
   "codemirror_mode": {
    "name": "ipython",
    "version": 3
   },
   "file_extension": ".py",
   "mimetype": "text/x-python",
   "name": "python",
   "nbconvert_exporter": "python",
   "pygments_lexer": "ipython3",
   "version": "3.6.8"
  }
 },
 "nbformat": 4,
 "nbformat_minor": 2
}
