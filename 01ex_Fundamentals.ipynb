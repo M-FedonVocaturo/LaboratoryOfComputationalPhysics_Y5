{
 "cells": [
  {
   "cell_type": "markdown",
   "metadata": {},
   "source": [
    "0\\. Implement a function (whatever you want) and save it to a file (e.g. `function.py`). Import that file and use that function in this notebook.\n"
   ]
  },
  {
   "cell_type": "code",
   "execution_count": 9,
   "metadata": {},
   "outputs": [
    {
     "name": "stdout",
     "output_type": "stream",
     "text": [
      "[0.5773502691896258, 0.5773502691896258, 0.5773502691896258]\n",
      "[0.5773502691896258, 0.5773502691896258, 0.5773502691896258]\n"
     ]
    }
   ],
   "source": [
    "import function as f\n",
    "\n",
    "num1=[1,1,1]\n",
    "num1=f.norm(num1)\n",
    "\n",
    "print(num1)\n",
    "\n",
    "\n",
    "#alternative way\n",
    "from function import norm\n",
    "num2=[1,1,1]\n",
    "num2=norm(num2)\n",
    "\n",
    "print(num2)\n"
   ]
  },
  {
   "cell_type": "markdown",
   "metadata": {},
   "source": [
    "1\\. Write the following as a list comprehension"
   ]
  },
  {
   "cell_type": "code",
   "execution_count": 12,
   "metadata": {},
   "outputs": [
    {
     "name": "stdout",
     "output_type": "stream",
     "text": [
      "[(0, 0), (0, 1), (0, 2), (0, 3), (1, 0), (1, 1), (1, 2), (1, 3), (2, 0), (2, 1), (2, 2), (2, 3)]\n",
      "[0, 4, 16]\n"
     ]
    }
   ],
   "source": [
    "# 1\n",
    "ans = []\n",
    "for i in range(3):\n",
    "    for j in range(4):\n",
    "        ans.append((i, j))\n",
    "print (ans)\n",
    "\n",
    "# 2\n",
    "ans = map(lambda x: x*x, filter(lambda x: x%2 == 0, range(5)))\n",
    "\n",
    "#filter(lambda x: x%2 == 0, range(5)) -> takes the even numbers in [0,5[\n",
    "#lambda x: x*x -> takes the square\n",
    "#map : map(lambda x: x*x, filter(lambda x: x%2 == 0, range(5)))\n",
    "#     -> (takes the square) of (the even numbers in 0,4)\n",
    "# even numbers 0,2,4\n",
    "# square 0,4,16\n",
    "\n",
    "print (list(ans))\n",
    "#print a list in which we append the numbers in ans\n"
   ]
  },
  {
   "cell_type": "code",
   "execution_count": 32,
   "metadata": {},
   "outputs": [
    {
     "name": "stdout",
     "output_type": "stream",
     "text": [
      "#1 [(0, 0), (0, 1), (0, 2), (0, 3), (1, 0), (1, 1), (1, 2), (1, 3), (2, 0), (2, 1), (2, 2), (2, 3)]\n",
      "#2 [0, 4, 16]\n"
     ]
    }
   ],
   "source": [
    "#1\n",
    "ans=[(i,j) for i in range(3) for j in range(4)]\n",
    "print(\"#1\",ans)\n",
    "\n",
    "#2\n",
    "ans2=[i**2 for i in range(5) if i%2==0]\n",
    "print(\"#2\",ans2)"
   ]
  },
  {
   "cell_type": "markdown",
   "metadata": {},
   "source": [
    "2\\. Convert the following function into a pure function with no global variables or side effects"
   ]
  },
  {
   "cell_type": "code",
   "execution_count": 33,
   "metadata": {},
   "outputs": [
    {
     "name": "stdout",
     "output_type": "stream",
     "text": [
      "[1, 2, 3, 0, 1, 2, 3, 4]\n",
      "[1, 2, 3, 0, 1, 2, 3, 4]\n"
     ]
    }
   ],
   "source": [
    "x = 5\n",
    "def f(alist):\n",
    "    for i in range(x):\n",
    "         alist.append(i)\n",
    "    return alist\n",
    "\n",
    "alist = [1,2,3]\n",
    "ans = f(alist)\n",
    "print (ans)\n",
    "print (alist) # alist has been changed!"
   ]
  },
  {
   "cell_type": "code",
   "execution_count": 43,
   "metadata": {},
   "outputs": [
    {
     "name": "stdout",
     "output_type": "stream",
     "text": [
      "new list [1, 2, 3, 0, 1, 2, 3, 4]\n",
      "old list [1, 2, 3]\n"
     ]
    }
   ],
   "source": [
    "x=5\n",
    "def f(alist):\n",
    "    alist2=alist.copy()\n",
    "    #see about copy, if you just type newlist=oldlist, they point to the same obj, when you modify one also the other is modified\n",
    "    #https://www.programiz.com/python-programming/methods/list/copy\n",
    "    for i in range(x):\n",
    "        alist2.append(i)\n",
    "    return alist2    \n",
    "    \n",
    "\n",
    "alist=[1,2,3]\n",
    "ans = f(alist)\n",
    "print (\"new list\",ans)\n",
    "print (\"old list\",alist) # alist has NOT been changed!\n"
   ]
  },
  {
   "cell_type": "markdown",
   "metadata": {},
   "source": [
    "3\\. Write a `decorator` hello that makes every wrapped function print “Hello!”, i.e. something like:\n",
    "\n",
    "```python\n",
    "@hello\n",
    "def square(x):\n",
    "    return x*x\n",
    "```\n",
    "\n"
   ]
  },
  {
   "cell_type": "code",
   "execution_count": 2,
   "metadata": {},
   "outputs": [
    {
     "name": "stdout",
     "output_type": "stream",
     "text": [
      "Hello!\n",
      "square: 4\n"
     ]
    }
   ],
   "source": [
    "def hello(func):\n",
    "    def wrapper(*args,**kwargs):\n",
    "        print(\"Hello!\")\n",
    "        func(*args,**kwargs)      \n",
    "    return wrapper\n",
    "\n",
    "\n",
    "#another way to do the same thing as the previous cell \n",
    "@hello\n",
    "def square(x):\n",
    "    print(\"square:\",x**2)\n",
    "    return x*x\n",
    "    \n",
    "    \n",
    "square(2)\n",
    "\n",
    "\n",
    "#about args and kwargs see\n",
    "#https://www.geeksforgeeks.org/function-wrappers-in-python/\n",
    "#https://book.pythontips.com/en/latest/args_and_kwargs.html"
   ]
  },
  {
   "cell_type": "markdown",
   "metadata": {},
   "source": [
    "4\\. Write the factorial function so that it a) does and b) does not use recursion."
   ]
  },
  {
   "cell_type": "code",
   "execution_count": 16,
   "metadata": {},
   "outputs": [
    {
     "name": "stdout",
     "output_type": "stream",
     "text": [
      "with recursion 5040\n",
      "without recursion 5040\n"
     ]
    }
   ],
   "source": [
    "#with recursion\n",
    "def fact(x):\n",
    "# base case\n",
    "    if x==0 or x==1:\n",
    "        return 1\n",
    "    # recursive case\n",
    "    else:\n",
    "         return x*fact(x-1)\n",
    "\n",
    "print(\"with recursion\",fact(7))\n",
    "    \n",
    "\n",
    "#no recursion\n",
    "def factorial(x):\n",
    "    i,j= 1,1\n",
    "    while i <=x:\n",
    "            j*=i\n",
    "            #print(i,j)\n",
    "            i+=1\n",
    "    return j\n",
    "        \n",
    "print(\"without recursion\",factorial(7))"
   ]
  },
  {
   "cell_type": "markdown",
   "metadata": {},
   "source": [
    "5\\. Use HOFs (zip in particular) to compute the weight of a circle, a disk and a sphere, assuming different radii and different densities:\n",
    "\n",
    "```python\n",
    "densities = {\"Al\":[0.5,1,2],\"Fe\":[3,4,5],\"Pb\": [15,20,30]}\n",
    "radii = [1,2,3]\n",
    "```\n",
    "\n",
    "where the entries of the dictionary's values are the linear, superficial and volumetric densities of the materials respectively.\n",
    "\n",
    "In particular define a list of three lambda functions using a comprehension that computes the circumference, the area and the volume for a given radius.\n"
   ]
  },
  {
   "cell_type": "markdown",
   "metadata": {},
   "source": [
    "6\\. Edit the class defintion to add an instance attribute of is_hungry = True to the Dog class. Then add a method called eat() which changes the value of is_hungry to False when called. Figure out the best way to feed each dog and then output “My dogs are hungry.” if all are hungry or “My dogs are not hungry.” if all are not hungry. The final output should look like this:\n",
    "\n",
    "`I have 3 dogs. \n",
    "Tom is 6. \n",
    "Fletcher is 7. \n",
    "Larry is 9. \n",
    "And they're all mammals, of course. \n",
    "My dogs are not hungry.\n",
    "`\n",
    "\n",
    "```python\n",
    "# Parent class\n",
    "class Dog:\n",
    "\n",
    "    # Class attribute\n",
    "    species = 'mammal'\n",
    "\n",
    "    # Initializer / Instance attributes\n",
    "    def __init__(self, name, age):\n",
    "        self.name = name\n",
    "        self.age = age\n",
    "\n",
    "    # instance method\n",
    "    def description(self):\n",
    "        return \"{} is {} years old\".format(self.name, self.age)\n",
    "\n",
    "    # instance method\n",
    "    def speak(self, sound):\n",
    "        return \"{} says {}\".format(self.name, sound)\n",
    "\n",
    "# Child class (inherits from Dog class)\n",
    "class RussellTerrier(Dog):\n",
    "    def run(self, speed):\n",
    "        return \"{} runs {}\".format(self.name, speed)\n",
    "\n",
    "# Child class (inherits from Dog class)\n",
    "class Bulldog(Dog):\n",
    "    def run(self, speed):\n",
    "        return \"{} runs {}\".format(self.name, speed)\n",
    "```"
   ]
  },
  {
   "cell_type": "code",
   "execution_count": null,
   "metadata": {},
   "outputs": [],
   "source": []
  }
 ],
 "metadata": {
  "kernelspec": {
   "display_name": "Python 3",
   "language": "python",
   "name": "python3"
  },
  "language_info": {
   "codemirror_mode": {
    "name": "ipython",
    "version": 3
   },
   "file_extension": ".py",
   "mimetype": "text/x-python",
   "name": "python",
   "nbconvert_exporter": "python",
   "pygments_lexer": "ipython3",
   "version": "3.6.8"
  }
 },
 "nbformat": 4,
 "nbformat_minor": 2
}
