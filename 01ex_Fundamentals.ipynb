{
 "cells": [
  {
   "cell_type": "markdown",
   "metadata": {},
   "source": [
    "0\\. Implement a function (whatever you want) and save it to a file (e.g. `function.py`). Import that file and use that function in this notebook.\n"
   ]
  },
  {
   "cell_type": "code",
   "execution_count": 9,
   "metadata": {},
   "outputs": [
    {
     "name": "stdout",
     "output_type": "stream",
     "text": [
      "[0.5773502691896258, 0.5773502691896258, 0.5773502691896258]\n",
      "[0.5773502691896258, 0.5773502691896258, 0.5773502691896258]\n"
     ]
    }
   ],
   "source": [
    "import function as f\n",
    "\n",
    "num1=[1,1,1]\n",
    "num1=f.norm(num1)\n",
    "\n",
    "print(num1)\n",
    "\n",
    "\n",
    "#alternative way\n",
    "from function import norm\n",
    "num2=[1,1,1]\n",
    "num2=norm(num2)\n",
    "\n",
    "print(num2)\n"
   ]
  },
  {
   "cell_type": "markdown",
   "metadata": {},
   "source": [
    "1\\. Write the following as a list comprehension"
   ]
  },
  {
   "cell_type": "code",
   "execution_count": 12,
   "metadata": {},
   "outputs": [
    {
     "name": "stdout",
     "output_type": "stream",
     "text": [
      "[(0, 0), (0, 1), (0, 2), (0, 3), (1, 0), (1, 1), (1, 2), (1, 3), (2, 0), (2, 1), (2, 2), (2, 3)]\n",
      "[0, 4, 16]\n"
     ]
    }
   ],
   "source": [
    "# 1\n",
    "ans = []\n",
    "for i in range(3):\n",
    "    for j in range(4):\n",
    "        ans.append((i, j))\n",
    "print (ans)\n",
    "\n",
    "# 2\n",
    "ans = map(lambda x: x*x, filter(lambda x: x%2 == 0, range(5)))\n",
    "\n",
    "#filter(lambda x: x%2 == 0, range(5)) -> takes the even numbers in [0,5[\n",
    "#lambda x: x*x -> takes the square\n",
    "#map : map(lambda x: x*x, filter(lambda x: x%2 == 0, range(5)))\n",
    "#     -> (takes the square) of (the even numbers in 0,4)\n",
    "# even numbers 0,2,4\n",
    "# square 0,4,16\n",
    "\n",
    "print (list(ans))\n",
    "#print a list in which we append the numbers in ans\n"
   ]
  },
  {
   "cell_type": "code",
   "execution_count": 32,
   "metadata": {},
   "outputs": [
    {
     "name": "stdout",
     "output_type": "stream",
     "text": [
      "#1 [(0, 0), (0, 1), (0, 2), (0, 3), (1, 0), (1, 1), (1, 2), (1, 3), (2, 0), (2, 1), (2, 2), (2, 3)]\n",
      "#2 [0, 4, 16]\n"
     ]
    }
   ],
   "source": [
    "#1\n",
    "ans=[(i,j) for i in range(3) for j in range(4)]\n",
    "print(\"#1\",ans)\n",
    "\n",
    "#2\n",
    "ans2=[i**2 for i in range(5) if i%2==0]\n",
    "print(\"#2\",ans2)"
   ]
  },
  {
   "cell_type": "markdown",
   "metadata": {},
   "source": [
    "2\\. Convert the following function into a pure function with no global variables or side effects"
   ]
  },
  {
   "cell_type": "code",
   "execution_count": 33,
   "metadata": {},
   "outputs": [
    {
     "name": "stdout",
     "output_type": "stream",
     "text": [
      "[1, 2, 3, 0, 1, 2, 3, 4]\n",
      "[1, 2, 3, 0, 1, 2, 3, 4]\n"
     ]
    }
   ],
   "source": [
    "x = 5\n",
    "def f(alist):\n",
    "    for i in range(x):\n",
    "         alist.append(i)\n",
    "    return alist\n",
    "\n",
    "alist = [1,2,3]\n",
    "ans = f(alist)\n",
    "print (ans)\n",
    "print (alist) # alist has been changed!"
   ]
  },
  {
   "cell_type": "code",
   "execution_count": 43,
   "metadata": {},
   "outputs": [
    {
     "name": "stdout",
     "output_type": "stream",
     "text": [
      "new list [1, 2, 3, 0, 1, 2, 3, 4]\n",
      "old list [1, 2, 3]\n"
     ]
    }
   ],
   "source": [
    "x=5\n",
    "def f(alist):\n",
    "    alist2=alist.copy()\n",
    "    #see about copy, if you just type newlist=oldlist, they point to the same obj, when you modify one also the other is modified\n",
    "    #https://www.programiz.com/python-programming/methods/list/copy\n",
    "    for i in range(x):\n",
    "        alist2.append(i)\n",
    "    return alist2    \n",
    "    \n",
    "\n",
    "alist=[1,2,3]\n",
    "ans = f(alist)\n",
    "print (\"new list\",ans)\n",
    "print (\"old list\",alist) # alist has NOT been changed!\n"
   ]
  },
  {
   "cell_type": "markdown",
   "metadata": {},
   "source": [
    "3\\. Write a `decorator` hello that makes every wrapped function print “Hello!”, i.e. something like:\n",
    "\n",
    "```python\n",
    "@hello\n",
    "def square(x):\n",
    "    return x*x\n",
    "```\n",
    "\n"
   ]
  },
  {
   "cell_type": "code",
   "execution_count": 2,
   "metadata": {},
   "outputs": [
    {
     "name": "stdout",
     "output_type": "stream",
     "text": [
      "Hello!\n",
      "square: 4\n"
     ]
    }
   ],
   "source": [
    "def hello(func):\n",
    "    def wrapper(*args,**kwargs):\n",
    "        print(\"Hello!\")\n",
    "        func(*args,**kwargs)      \n",
    "    return wrapper\n",
    "\n",
    "\n",
    "#another way to do the same thing as the previous cell \n",
    "@hello\n",
    "def square(x):\n",
    "    print(\"square:\",x**2)\n",
    "    return x*x\n",
    "    \n",
    "    \n",
    "square(2)\n",
    "\n",
    "\n",
    "#about args and kwargs see\n",
    "#https://www.geeksforgeeks.org/function-wrappers-in-python/\n",
    "#https://book.pythontips.com/en/latest/args_and_kwargs.html"
   ]
  },
  {
   "cell_type": "markdown",
   "metadata": {},
   "source": [
    "4\\. Write the factorial function so that it a) does and b) does not use recursion."
   ]
  },
  {
   "cell_type": "code",
   "execution_count": 16,
   "metadata": {},
   "outputs": [
    {
     "name": "stdout",
     "output_type": "stream",
     "text": [
      "with recursion 5040\n",
      "without recursion 5040\n"
     ]
    }
   ],
   "source": [
    "#with recursion\n",
    "def fact(x):\n",
    "# base case\n",
    "    if x==0 or x==1:\n",
    "        return 1\n",
    "    # recursive case\n",
    "    else:\n",
    "         return x*fact(x-1)\n",
    "\n",
    "print(\"with recursion\",fact(7))\n",
    "    \n",
    "\n",
    "#no recursion\n",
    "def factorial(x):\n",
    "    i,j= 1,1\n",
    "    while i <=x:\n",
    "            j*=i\n",
    "            #print(i,j)\n",
    "            i+=1\n",
    "    return j\n",
    "        \n",
    "print(\"without recursion\",factorial(7))"
   ]
  },
  {
   "cell_type": "markdown",
   "metadata": {},
   "source": [
    "5\\. Use HOFs (zip in particular) to compute the weight of a circle, a disk and a sphere, assuming different radii and different densities:\n",
    "\n",
    "```python\n",
    "densities = {\"Al\":[0.5,1,2],\"Fe\":[3,4,5],\"Pb\": [15,20,30]}\n",
    "radii = [1,2,3]\n",
    "```\n",
    "\n",
    "where the entries of the dictionary's values are the linear, superficial and volumetric densities of the materials respectively.\n",
    "\n",
    "In particular define a list of three lambda functions using a comprehension that computes the circumference, the area and the volume for a given radius.\n"
   ]
  },
  {
   "cell_type": "code",
   "execution_count": 149,
   "metadata": {},
   "outputs": [
    {
     "name": "stdout",
     "output_type": "stream",
     "text": [
      "Material key: Al\n",
      "Densities Vec: [0.5, 1.0, 2.0]\n",
      "________________________________________________________\n",
      "density: linear density 0.5\n",
      "shape: circle\n",
      "radius 1 vol 6.283185307179586 weight 3.141592653589793\n",
      "radius 2 vol 12.566370614359172 weight 6.283185307179586\n",
      "radius 3 vol 18.84955592153876 weight 9.42477796076938\n",
      "________________________________________________________\n",
      "density: superficial density 1.0\n",
      "shape: disk\n",
      "radius 1 vol 3.141592653589793 weight 3.141592653589793\n",
      "radius 2 vol 12.566370614359172 weight 12.566370614359172\n",
      "radius 3 vol 28.274333882308138 weight 28.274333882308138\n",
      "________________________________________________________\n",
      "density: volumetric density 2.0\n",
      "shape: sphere\n",
      "radius 1 vol 4.1887902047863905 weight 8.377580409572781\n",
      "radius 2 vol 33.510321638291124 weight 67.02064327658225\n",
      "radius 3 vol 113.09733552923255 weight 226.1946710584651\n",
      "________________________________________________________\n",
      "________________________________________________________\n",
      "Material key: Fe\n",
      "Densities Vec: [3, 4, 5]\n",
      "________________________________________________________\n",
      "density: linear density 3\n",
      "shape: circle\n",
      "radius 1 vol 6.283185307179586 weight 18.84955592153876\n",
      "radius 2 vol 12.566370614359172 weight 37.69911184307752\n",
      "radius 3 vol 18.84955592153876 weight 56.548667764616276\n",
      "________________________________________________________\n",
      "density: superficial density 4\n",
      "shape: disk\n",
      "radius 1 vol 3.141592653589793 weight 12.566370614359172\n",
      "radius 2 vol 12.566370614359172 weight 50.26548245743669\n",
      "radius 3 vol 28.274333882308138 weight 113.09733552923255\n",
      "________________________________________________________\n",
      "density: volumetric density 5\n",
      "shape: sphere\n",
      "radius 1 vol 4.1887902047863905 weight 20.94395102393195\n",
      "radius 2 vol 33.510321638291124 weight 167.5516081914556\n",
      "radius 3 vol 113.09733552923255 weight 565.4866776461628\n",
      "________________________________________________________\n",
      "________________________________________________________\n",
      "Material key: Pb\n",
      "Densities Vec: [15, 20, 30]\n",
      "________________________________________________________\n",
      "density: linear density 15\n",
      "shape: circle\n",
      "radius 1 vol 6.283185307179586 weight 94.24777960769379\n",
      "radius 2 vol 12.566370614359172 weight 188.49555921538757\n",
      "radius 3 vol 18.84955592153876 weight 282.7433388230814\n",
      "________________________________________________________\n",
      "density: superficial density 20\n",
      "shape: disk\n",
      "radius 1 vol 3.141592653589793 weight 62.83185307179586\n",
      "radius 2 vol 12.566370614359172 weight 251.32741228718345\n",
      "radius 3 vol 28.274333882308138 weight 565.4866776461628\n",
      "________________________________________________________\n",
      "density: volumetric density 30\n",
      "shape: sphere\n",
      "radius 1 vol 4.1887902047863905 weight 125.66370614359171\n",
      "radius 2 vol 33.510321638291124 weight 1005.3096491487337\n",
      "radius 3 vol 113.09733552923255 weight 3392.9200658769764\n",
      "________________________________________________________\n",
      "________________________________________________________\n",
      "Material: Al\n",
      "Density vector [0.5, 1.0, 2.0]\n",
      "Shape: circle of radius: [1, 2, 3]\n",
      "Weight: [3.141592653589793, 6.283185307179586, 9.42477796076938]\n",
      "Shape: disk of radius: [1, 2, 3]\n",
      "Weight: [3.141592653589793, 12.566370614359172, 28.274333882308138]\n",
      "Shape: sphere of radius: [1, 2, 3]\n",
      "Weight: [8.377580409572781, 67.02064327658225, 226.1946710584651]\n",
      "________________________________________________________\n",
      "Material: Fe\n",
      "Density vector [3, 4, 5]\n",
      "Shape: circle of radius: [1, 2, 3]\n",
      "Weight: [18.84955592153876, 37.69911184307752, 56.548667764616276]\n",
      "Shape: disk of radius: [1, 2, 3]\n",
      "Weight: [12.566370614359172, 50.26548245743669, 113.09733552923255]\n",
      "Shape: sphere of radius: [1, 2, 3]\n",
      "Weight: [20.94395102393195, 167.5516081914556, 565.4866776461628]\n",
      "________________________________________________________\n",
      "Material: Pb\n",
      "Density vector [15, 20, 30]\n",
      "Shape: circle of radius: [1, 2, 3]\n",
      "Weight: [94.24777960769379, 188.49555921538757, 282.7433388230814]\n",
      "Shape: disk of radius: [1, 2, 3]\n",
      "Weight: [62.83185307179586, 251.32741228718345, 565.4866776461628]\n",
      "Shape: sphere of radius: [1, 2, 3]\n",
      "Weight: [125.66370614359171, 1005.3096491487337, 3392.9200658769764]\n",
      "________________________________________________________\n"
     ]
    }
   ],
   "source": [
    "import math as m\n",
    "densities = {\"Al\":[0.5,1.0,2.0],\"Fe\":[3,4,5],\"Pb\": [15,20,30]}\n",
    "radii = [1,2,3]\n",
    "\n",
    "volume=[lambda x: x*2*m.pi,lambda x: x**2*m.pi,lambda x: x**3*(4/3)*m.pi]\n",
    "d_labels=[\"linear density\",\"superficial density\",\"volumetric density\"]\n",
    "v_labels=[\"circle\",\"disk\",\"sphere\"]\n",
    "\n",
    "for d,key in zip((densities.values()),densities.keys()):\n",
    "    print(\"Material key:\",key)\n",
    "    print(\"Densities Vec:\",d)\n",
    "    for di,v in zip(range(len(d)),volume): \n",
    "        print(\"________________________________________________________\")\n",
    "        print(\"density:\",d_labels[di],d[di])\n",
    "        print(\"shape:\",v_labels[di])\n",
    "        for r in radii: print(\"radius\",r,\"vol\",v(r),\"weight\",d[di]*v(r))\n",
    "    print(\"________________________________________________________\")\n",
    "    print(\"________________________________________________________\")\n",
    "\n",
    "\n",
    "#alternative\n",
    "for d,k in zip(densities.values(),densities.keys()):\n",
    "    print(\"Material:\",k)\n",
    "    print(\"Density vector\",d)\n",
    "    for di,v in zip(range(len(densities.values())),v_labels):\n",
    "        print(\"Shape:\",v,\"of radius:\",radii)\n",
    "        l=[i for i in map(lambda x: x*d[di],map(volume[di],radii))]\n",
    "        print(\"Weight:\",l)\n",
    "    print(\"________________________________________________________\")\n",
    "\n"
   ]
  },
  {
   "cell_type": "markdown",
   "metadata": {},
   "source": [
    "6\\. Edit the class defintion to add an instance attribute of is_hungry = True to the Dog class. Then add a method called eat() which changes the value of is_hungry to False when called. Figure out the best way to feed each dog and then output “My dogs are hungry.” if all are hungry or “My dogs are not hungry.” if all are not hungry. The final output should look like this:\n",
    "\n",
    "`I have 3 dogs. \n",
    "Tom is 6. \n",
    "Fletcher is 7. \n",
    "Larry is 9. \n",
    "And they're all mammals, of course. \n",
    "My dogs are not hungry.\n",
    "`\n",
    "\n",
    "```python\n",
    "# Parent class\n",
    "class Dog:\n",
    "\n",
    "    # Class attribute\n",
    "    species = 'mammal'\n",
    "\n",
    "    # Initializer / Instance attributes\n",
    "    def __init__(self, name, age):\n",
    "        self.name = name\n",
    "        self.age = age\n",
    "\n",
    "    # instance method\n",
    "    def description(self):\n",
    "        return \"{} is {} years old\".format(self.name, self.age)\n",
    "\n",
    "    # instance method\n",
    "    def speak(self, sound):\n",
    "        return \"{} says {}\".format(self.name, sound)\n",
    "\n",
    "# Child class (inherits from Dog class)\n",
    "class RussellTerrier(Dog):\n",
    "    def run(self, speed):\n",
    "        return \"{} runs {}\".format(self.name, speed)\n",
    "\n",
    "# Child class (inherits from Dog class)\n",
    "class Bulldog(Dog):\n",
    "    def run(self, speed):\n",
    "        return \"{} runs {}\".format(self.name, speed)\n",
    "```"
   ]
  },
  {
   "cell_type": "code",
   "execution_count": 242,
   "metadata": {},
   "outputs": [
    {
     "name": "stdout",
     "output_type": "stream",
     "text": [
      "I have 3 dogs.\n",
      "And they're all mammals, of course.\n",
      "Tom is 6 years old.\n",
      "Fletcher is 7 years old.\n",
      "Larry is 9 years old.\n",
      "\n",
      "\n",
      "feeding the dog: Tom!\n",
      "feeding the dog: Larry!\n",
      "\n",
      "\n",
      "Number of hungry dogs: 1\n",
      "Fletcher is hungry, let's feed that poor doggo!\n",
      "feeding the dog: Fletcher!\n",
      "All my dogs are no more hungry C: \n"
     ]
    }
   ],
   "source": [
    "# Parent class\n",
    "class Dog:\n",
    "    # Class attribute\n",
    "    species = 'mammal'\n",
    "    _counter = 0\n",
    "    _eater = 0\n",
    "    instancelist = [] #list of all the instances, to modify all at once!!!\n",
    "    \n",
    "     \n",
    "    def countDogs():\n",
    "        return \"I have {} dogs.\".format(Dog._counter)\n",
    "    \n",
    "    def idSpecies():\n",
    "        return \"And they're all {}s, of course.\".format(Dog.species)\n",
    "    \n",
    "    def countHungry():\n",
    "        if Dog._eater==0: print(\"All my {} dogs are not hungry! C:\".format(Dog._counter))\n",
    "        else: print(\"Number of hungry dogs: {}\".format(Dog._eater))\n",
    "  \n",
    "    def feedAll():\n",
    "        if Dog._eater==0:print(\"No need to feed since all my dogs are not hungry C: \")  \n",
    "        if Dog._eater>0:\n",
    "            for i in Dog.instancelist:\n",
    "                    if i.is_hungry==True: print(i.name,\"is hungry, let's feed that poor doggo!\"),i.eat()\n",
    "            print(\"All my dogs are no more hungry C: \")  \n",
    "        \n",
    "    def infoAll():\n",
    "        for i in Dog.instancelist: print(\"{} is {} years old.\".format(i.name,i.age))\n",
    "\n",
    "    # Initializer / Instance attributes\n",
    "    def __init__(self, name, age):\n",
    "        self.name = name\n",
    "        self.age = age\n",
    "        \n",
    "        self.is_hungry = True #instance attribute\n",
    "        if self.is_hungry == True: Dog._eater+=1\n",
    "        Dog._counter += 1\n",
    "        Dog.instancelist.append(self)\n",
    "    \n",
    "    \n",
    "    \n",
    "    # instance method\n",
    "    def description(self):\n",
    "        return \"{} is {} years old.\".format(self.name, self.age)\n",
    "    # instance method\n",
    "    def speak(self, sound):\n",
    "        return \"{} says {}.\".format(self.name, sound)\n",
    "    \n",
    "    #instace method to feed the dog\n",
    "    def eat(self):\n",
    "        print(\"feeding the dog: {}!\".format(self.name))\n",
    "        \n",
    "        self.is_hungry = False\n",
    "        Dog._eater-=1\n",
    "        \n",
    "# Child class (inherits from Dog class)\n",
    "class RussellTerrier(Dog):\n",
    "    def run(self, speed):\n",
    "        return \"{} runs {}\".format(self.name, speed)\n",
    "    \n",
    "# Child class (inherits from Dog class)\n",
    "class Bulldog(Dog):\n",
    "    def run(self, speed):\n",
    "        return \"{} runs {}\".format(self.name, speed)\n",
    "    \n",
    "\n",
    "dog1=Dog(\"Tom\",6)\n",
    "dog2=Dog(\"Fletcher\",7)\n",
    "dog3=Dog(\"Larry\",9)\n",
    "\n",
    "print(Dog.countDogs()) \n",
    "print(Dog.idSpecies())\n",
    "\n",
    "Dog.infoAll() #to print all the info of all the dogs\n",
    "print(\"\\n\")\n",
    "\n",
    "#to print info of a single dog\n",
    "\n",
    "#print(Dog.description(dog1))\n",
    "#print(Dog.description(dog2))    \n",
    "#print(Dog.description(dog3))\n",
    "\n",
    "\n",
    "dog1.eat() #feed a single dog\n",
    "#dog2.eat()\n",
    "dog3.eat()\n",
    "print(\"\\n\")\n",
    "Dog.countHungry()\n",
    "Dog.feedAll() #feed all the hungry dogs\n",
    "\n"
   ]
  }
 ],
 "metadata": {
  "kernelspec": {
   "display_name": "Python 3",
   "language": "python",
   "name": "python3"
  },
  "language_info": {
   "codemirror_mode": {
    "name": "ipython",
    "version": 3
   },
   "file_extension": ".py",
   "mimetype": "text/x-python",
   "name": "python",
   "nbconvert_exporter": "python",
   "pygments_lexer": "ipython3",
   "version": "3.8.3"
  }
 },
 "nbformat": 4,
 "nbformat_minor": 2
}
