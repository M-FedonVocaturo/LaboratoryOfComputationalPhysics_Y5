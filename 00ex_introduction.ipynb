{
 "cells": [
  {
   "cell_type": "markdown",
   "metadata": {},
   "source": [
    "1. The MickeyMouse problem\n",
    "\n",
    "a) Write a program that prints the numbers from 1 to 100. But for multiples of 3 print `Mickey` instead of the corresponding number and for the multiples of 5 print `Mouse`. For numbers which are multiples of both three and five print `MickeyMouse`\n",
    "\n",
    "b) Put the result in a tuple and substitute `Mickey` with `Donald` and `Mouse` with `Duck`"
   ]
  },
  {
   "cell_type": "code",
   "execution_count": 18,
   "metadata": {},
   "outputs": [
    {
     "name": "stdout",
     "output_type": "stream",
     "text": [
      "1\n",
      "2\n",
      "3 Mickey\n",
      "4\n",
      "5 Mouse\n",
      "6 Mickey\n",
      "7\n",
      "8\n",
      "9 Mickey\n",
      "10 Mouse\n",
      "11\n",
      "12 Mickey\n",
      "13\n",
      "14\n",
      "15 MickeyMouse\n",
      "16\n",
      "17\n",
      "18 Mickey\n",
      "19\n",
      "20 Mouse\n",
      "21 Mickey\n",
      "22\n",
      "23\n",
      "24 Mickey\n",
      "25 Mouse\n",
      "26\n",
      "27 Mickey\n",
      "28\n",
      "29\n",
      "30 MickeyMouse\n",
      "31\n",
      "32\n",
      "33 Mickey\n",
      "34\n",
      "35 Mouse\n",
      "36 Mickey\n",
      "37\n",
      "38\n",
      "39 Mickey\n",
      "40 Mouse\n",
      "41\n",
      "42 Mickey\n",
      "43\n",
      "44\n",
      "45 MickeyMouse\n",
      "46\n",
      "47\n",
      "48 Mickey\n",
      "49\n",
      "50 Mouse\n",
      "51 Mickey\n",
      "52\n",
      "53\n",
      "54 Mickey\n",
      "55 Mouse\n",
      "56\n",
      "57 Mickey\n",
      "58\n",
      "59\n",
      "60 MickeyMouse\n",
      "61\n",
      "62\n",
      "63 Mickey\n",
      "64\n",
      "65 Mouse\n",
      "66 Mickey\n",
      "67\n",
      "68\n",
      "69 Mickey\n",
      "70 Mouse\n",
      "71\n",
      "72 Mickey\n",
      "73\n",
      "74\n",
      "75 MickeyMouse\n",
      "76\n",
      "77\n",
      "78 Mickey\n",
      "79\n",
      "80 Mouse\n",
      "81 Mickey\n",
      "82\n",
      "83\n",
      "84 Mickey\n",
      "85 Mouse\n",
      "86\n",
      "87 Mickey\n",
      "88\n",
      "89\n",
      "90 MickeyMouse\n",
      "91\n",
      "92\n",
      "93 Mickey\n",
      "94\n",
      "95 Mouse\n",
      "96 Mickey\n",
      "97\n",
      "98\n",
      "99 Mickey\n",
      "100 Mouse\n",
      "\n",
      " lista: \n",
      "\n",
      "['Mickey', 'Mouse', 'Mickey', 'Mickey', 'Mouse', 'Mickey', 'MickeyMouse', 'Mickey', 'Mouse', 'Mickey', 'Mickey', 'Mouse', 'Mickey', 'MickeyMouse', 'Mickey', 'Mouse', 'Mickey', 'Mickey', 'Mouse', 'Mickey', 'MickeyMouse', 'Mickey', 'Mouse', 'Mickey', 'Mickey', 'Mouse', 'Mickey', 'MickeyMouse', 'Mickey', 'Mouse', 'Mickey', 'Mickey', 'Mouse', 'Mickey', 'MickeyMouse', 'Mickey', 'Mouse', 'Mickey', 'Mickey', 'Mouse', 'Mickey', 'MickeyMouse', 'Mickey', 'Mouse', 'Mickey', 'Mickey', 'Mouse']\n",
      "['Donald', 'Duck', 'Donald', 'Donald', 'Duck', 'Donald', 'DonaldDuck', 'Donald', 'Duck', 'Donald', 'Donald', 'Duck', 'Donald', 'DonaldDuck', 'Donald', 'Duck', 'Donald', 'Donald', 'Duck', 'Donald', 'DonaldDuck', 'Donald', 'Duck', 'Donald', 'Donald', 'Duck', 'Donald', 'DonaldDuck', 'Donald', 'Duck', 'Donald', 'Donald', 'Duck', 'Donald', 'DonaldDuck', 'Donald', 'Duck', 'Donald', 'Donald', 'Duck', 'Donald', 'DonaldDuck', 'Donald', 'Duck', 'Donald', 'Donald', 'Duck']\n"
     ]
    }
   ],
   "source": [
    "a_list=[]\n",
    "for i in range(1,101):\n",
    "    if i%3==0:\n",
    "        if i%5==0:print (i,\"MickeyMouse\"),a_list.append(\"MickeyMouse\")\n",
    "        else: print(i,\"Mickey\"),a_list.append(\"Mickey\")    \n",
    "    elif i%5==0: print(i,\"Mouse\"),a_list.append(\"Mouse\")\n",
    "    else: print(i)\n",
    "        \n",
    "print(\"\\n lista: \\n\")        \n",
    "print(a_list[0:])\n",
    "\n",
    "#replace values without for or while loop by using lambda function\n",
    "#https://www.geeksforgeeks.org/how-to-replace-values-in-a-list-in-python/\n",
    "\n",
    "a_list = list(map(lambda x: x.replace('Mickey', 'Donald'), a_list))\n",
    "a_list = list(map(lambda x: x.replace('Mouse', 'Duck'), a_list))\n",
    "\n",
    "print(a_list)\n",
    "#same print(a_list[0:])\n"
   ]
  },
  {
   "cell_type": "markdown",
   "metadata": {},
   "source": [
    "2\\. The swap function\n",
    "\n",
    "Write a function that swap the values of two input variables x and y (whatever the type). Try to do that also without a temporary variable"
   ]
  },
  {
   "cell_type": "code",
   "execution_count": 45,
   "metadata": {},
   "outputs": [
    {
     "name": "stdout",
     "output_type": "stream",
     "text": [
      "9 12\n",
      "12 9\n",
      "12 9\n"
     ]
    }
   ],
   "source": [
    "def swap_func(a,b):\n",
    "    #a,b=b,a\n",
    "    return b,a\n",
    "\n",
    "\n",
    "a,b=9,12\n",
    "print(a,b)\n",
    "a,b=b,a\n",
    "print(a,b)\n",
    "\n",
    "\n",
    "a,b=9,12\n",
    "print(a,b)\n",
    "swap = lambda x, y: (y, x)\n",
    "a,b=swap(a,b)\n",
    "print(a,b)\n",
    "\n"
   ]
  },
  {
   "cell_type": "markdown",
   "metadata": {},
   "source": [
    "3\\. Computing the distance\n",
    "\n",
    "Write a function that calculates and returns the euclidean distance between two points *u* and *v*, where *u* and *v* are both 2-tuples *(x,y)*. For example, if *u=(3,0)* and *v=(0,4)*, the function should return 5"
   ]
  },
  {
   "cell_type": "code",
   "execution_count": 57,
   "metadata": {},
   "outputs": [
    {
     "name": "stdout",
     "output_type": "stream",
     "text": [
      "distance is: 5.0\n"
     ]
    }
   ],
   "source": [
    "def dist(u,v):\n",
    "    return ((u[0]-v[0])**2+(u[1]-v[1])**2)**0.5\n",
    "u,v=(3,0),(0,4)\n",
    "print(\"distance is:\",dist(u,v))"
   ]
  },
  {
   "cell_type": "markdown",
   "metadata": {},
   "source": [
    "4\\. Counting letters\n",
    "\n",
    "Write a program to calculate the number of times each character occurs in a given string *s*. Ignore differneces in capitalization"
   ]
  },
  {
   "cell_type": "code",
   "execution_count": 87,
   "metadata": {},
   "outputs": [
    {
     "name": "stdout",
     "output_type": "stream",
     "text": [
      "n. of  a , A  tot= 7\n",
      "n. of  b , B  tot= 5\n",
      "n. of  c , C  tot= 3\n",
      "n. of  d , D  tot= 3\n",
      "n. of  e , E  tot= 22\n",
      "n. of  f , F  tot= 10\n",
      "n. of  g , G  tot= 1\n",
      "n. of  h , H  tot= 9\n",
      "n. of  i , I  tot= 14\n",
      "n. of  j , J  tot= 0\n",
      "n. of  k , K  tot= 2\n",
      "n. of  l , L  tot= 6\n",
      "n. of  m , M  tot= 12\n",
      "n. of  n , N  tot= 10\n",
      "n. of  o , O  tot= 13\n",
      "n. of  p , P  tot= 8\n",
      "n. of  q , Q  tot= 0\n",
      "n. of  r , R  tot= 17\n",
      "n. of  s , S  tot= 9\n",
      "n. of  t , T  tot= 19\n",
      "n. of  u , U  tot= 9\n",
      "n. of  v , V  tot= 2\n",
      "n. of  w , W  tot= 2\n",
      "n. of  x , X  tot= 0\n",
      "n. of  y , Y  tot= 2\n",
      "n. of  z , Z  tot= 3\n"
     ]
    }
   ],
   "source": [
    "s=\"Write a program that prints the numbers from 1 to 100. \\\n",
    "But for multiples of three print Mickey instead of the number and for the multiples of five print Mouse. \\\n",
    "For numbers which are multiples of both three and five print MickeyMouse ZZZ\"\n",
    "\n",
    "al='abcdefghijklmnopqrstuvwxyz'\n",
    "\n",
    "#for i in range(0, len(al)): print(al[i],\"=\",(s.count(al[i])),\"::\",al[i].upper(),\"=\",s.count(al[i].upper()),\" tot=\",s.count(al[i])+s.count(al[i].upper()))\n",
    "\n",
    "for i in range(0, len(al)): print(\"n. of \",al[i],\",\",al[i].upper(),\" tot=\",s.count(al[i])+s.count(al[i].upper()))\n",
    "\n"
   ]
  },
  {
   "cell_type": "markdown",
   "metadata": {},
   "source": [
    "5\\. Isolating the unique\n",
    "\n",
    "Write a function that determines and count the unique numbers in the list *l*"
   ]
  },
  {
   "cell_type": "code",
   "execution_count": 93,
   "metadata": {},
   "outputs": [
    {
     "name": "stdout",
     "output_type": "stream",
     "text": [
      "58  occurrence 1\n",
      "74  occurrence 1\n",
      "96  occurrence 1\n",
      "64  occurrence 1\n",
      "10  occurrence 1\n",
      "24  occurrence 1\n",
      "19  occurrence 1\n",
      "33  occurrence 1\n",
      "86  occurrence 1\n",
      "99  occurrence 1\n",
      "18  occurrence 1\n",
      "47  occurrence 1\n",
      "88  occurrence 1\n",
      "55  occurrence 1\n",
      "54  occurrence 1\n",
      "8  occurrence 1\n",
      "79  occurrence 1\n",
      "81  occurrence 1\n",
      "57  occurrence 1\n",
      "37  occurrence 1\n",
      "1  occurrence 1\n",
      "9  occurrence 1\n",
      "95  occurrence 1\n",
      "90  occurrence 1\n",
      "98  occurrence 1\n",
      "39  occurrence 1\n",
      "16  occurrence 1\n",
      "82  occurrence 1\n",
      "92  occurrence 1\n",
      "41  occurrence 1\n",
      "30  occurrence 1\n",
      "94  occurrence 1\n",
      "5  occurrence 1\n",
      "72  occurrence 1\n",
      "87  occurrence 1\n",
      "75  occurrence 1\n",
      "53  occurrence 1\n"
     ]
    }
   ],
   "source": [
    "l = [36, 45, 58, 3, 74, 96, 64, 45, 31, 10, 24, 19, 33, 86, 99, 18, 63, 70, 85,\n",
    " 85, 63, 47, 56, 42, 70, 84, 88, 55, 20, 54, 8, 56, 51, 79, 81, 57, 37, 91,\n",
    " 1, 84, 84, 36, 66, 9, 89, 50, 42, 91, 50, 95, 90, 98, 39, 16, 82, 31, 92, 41,\n",
    " 45, 30, 66, 70, 34, 85, 94, 5, 3, 36, 72, 91, 84, 34, 87, 75, 53, 51, 20, 89, 51, 20]\n",
    "\n",
    "for i in range(0, len(l)):    \n",
    "    if l.count(l[i])==1:print(l[i],\" occurrence\",l.count(l[i]))\n",
    "\n"
   ]
  },
  {
   "cell_type": "markdown",
   "metadata": {},
   "source": [
    "6\\. Combination of functions\n",
    "\n",
    "Write two functions - one that returns the square of a number, and one that returns the cube. Now write a third function that returns the number raised to the 6th power using the two previous functions."
   ]
  },
  {
   "cell_type": "code",
   "execution_count": 96,
   "metadata": {},
   "outputs": [
    {
     "name": "stdout",
     "output_type": "stream",
     "text": [
      "4 8 64\n"
     ]
    }
   ],
   "source": [
    "def square(a):\n",
    "    return a**2\n",
    "\n",
    "def cube(a):\n",
    "    return a**3\n",
    "\n",
    "def sixth_pow(a):\n",
    "    return square(cube(a))\n",
    "\n",
    "\n",
    "a=2\n",
    "print(square(a),cube(a),sixth_pow(a))\n"
   ]
  },
  {
   "cell_type": "markdown",
   "metadata": {},
   "source": [
    "7\\. Cubes\n",
    "\n",
    "Create a list of the cubes of x for x in *[0, 10]* using:\n",
    "\n",
    "a) a for loop\n",
    "\n",
    "b) a list comprehension"
   ]
  },
  {
   "cell_type": "code",
   "execution_count": 105,
   "metadata": {},
   "outputs": [
    {
     "name": "stdout",
     "output_type": "stream",
     "text": [
      "[0, 1, 8, 27, 64, 125, 216, 343, 512, 729, 1000]\n",
      "[0, 1, 8, 27, 64, 125, 216, 343, 512, 729, 1000]\n"
     ]
    }
   ],
   "source": [
    "a_list2=[]\n",
    "for i in range(0, 11): a_list2.append(i**3)\n",
    "print(a_list2)    \n",
    "\n",
    "\n",
    "list2 = [x**3 for x in range(11)] \n",
    "print(list2)"
   ]
  },
  {
   "cell_type": "markdown",
   "metadata": {},
   "source": [
    "8\\. Nested list comprehension\n",
    "\n",
    "A Pythagorean triple is an integer solution to the Pythagorean theorem $a^2+b^2=c^2$. The first Pythagorean triple is (3,4,5). Find and put in a tuple all unique Pythagorean triples for the positive integers a, b and c less than 100."
   ]
  },
  {
   "cell_type": "code",
   "execution_count": 23,
   "metadata": {},
   "outputs": [
    {
     "name": "stdout",
     "output_type": "stream",
     "text": [
      "[(3, 4, 5), (5, 12, 13), (6, 8, 10), (7, 24, 25), (8, 15, 17), (9, 12, 15), (9, 40, 41), (10, 24, 26), (11, 60, 61), (12, 16, 20), (12, 35, 37), (13, 84, 85), (14, 48, 50), (15, 20, 25), (15, 36, 39), (16, 30, 34), (16, 63, 65), (18, 24, 30), (18, 80, 82), (20, 21, 29), (20, 48, 52), (21, 28, 35), (21, 72, 75), (24, 32, 40), (24, 45, 51), (24, 70, 74), (25, 60, 65), (27, 36, 45), (28, 45, 53), (28, 96, 100), (30, 40, 50), (30, 72, 78), (32, 60, 68), (33, 44, 55), (33, 56, 65), (35, 84, 91), (36, 48, 60), (36, 77, 85), (39, 52, 65), (39, 80, 89), (40, 42, 58), (40, 75, 85), (42, 56, 70), (45, 60, 75), (48, 55, 73), (48, 64, 80), (51, 68, 85), (54, 72, 90), (57, 76, 95), (60, 63, 87), (60, 80, 100), (65, 72, 97)]\n",
      "total number of triplets: 52\n",
      "[(3, 4, 5), (5, 12, 13), (6, 8, 10), (7, 24, 25), (8, 15, 17), (9, 12, 15), (9, 40, 41), (10, 24, 26), (11, 60, 61), (12, 16, 20), (12, 35, 37), (13, 84, 85), (14, 48, 50), (15, 20, 25), (15, 36, 39), (16, 30, 34), (16, 63, 65), (18, 24, 30), (18, 80, 82), (20, 21, 29), (20, 48, 52), (21, 28, 35), (21, 72, 75), (24, 32, 40), (24, 45, 51), (24, 70, 74), (25, 60, 65), (27, 36, 45), (28, 45, 53), (28, 96, 100), (30, 40, 50), (30, 72, 78), (32, 60, 68), (33, 44, 55), (33, 56, 65), (35, 84, 91), (36, 48, 60), (36, 77, 85), (39, 52, 65), (39, 80, 89), (40, 42, 58), (40, 75, 85), (42, 56, 70), (45, 60, 75), (48, 55, 73), (48, 64, 80), (51, 68, 85), (54, 72, 90), (57, 76, 95), (60, 63, 87), (60, 80, 100), (65, 72, 97)]\n",
      "total number of triplets: 52\n",
      "{(28, 96, 100), (30, 40, 50), (35, 84, 91), (25, 60, 65), (15, 20, 25), (6, 8, 10), (45, 60, 75), (30, 72, 78), (15, 36, 39), (27, 36, 45), (13, 84, 85), (36, 48, 60), (33, 56, 65), (9, 40, 41), (32, 60, 68), (18, 80, 82), (16, 63, 65), (10, 24, 26), (57, 76, 95), (8, 15, 17), (48, 64, 80), (9, 12, 15), (40, 42, 58), (21, 72, 75), (24, 45, 51), (14, 48, 50), (40, 75, 85), (39, 52, 65), (12, 35, 37), (16, 30, 34), (28, 45, 53), (24, 70, 74), (11, 60, 61), (5, 12, 13), (21, 28, 35), (18, 24, 30), (51, 68, 85), (12, 16, 20), (48, 55, 73), (60, 63, 87), (60, 80, 100), (20, 21, 29), (65, 72, 97), (20, 48, 52), (33, 44, 55), (3, 4, 5), (24, 32, 40), (42, 56, 70), (39, 80, 89), (54, 72, 90), (36, 77, 85), (7, 24, 25)}\n",
      "total number of triplets: 52\n"
     ]
    }
   ],
   "source": [
    "list_p=[]\n",
    "for a in range(1,101):\n",
    "    for b in range(a+1,101):\n",
    "        for c in range(a+2,101):\n",
    "            if a**2+b**2==c**2: list_p.append((a,b,c))\n",
    "        \n",
    "print(list_p) \n",
    "print(\"total number of triplets:\",len(list_p))\n",
    "\n",
    "\n",
    "\n",
    "list_p2=[(a,b,c) for a in range(1,101) for b in range(1,101) for c in range(1,101) if a**2+b**2==c**2 if a<=b<=c]\n",
    "print(list_p2)      \n",
    "print(\"total number of triplets:\",len(list_p2))\n",
    "\n",
    "\n",
    "res=set(map(tuple, map(sorted, list_p2)))\n",
    "print(res)      \n",
    "print(\"total number of triplets:\",len(res))\n"
   ]
  },
  {
   "cell_type": "markdown",
   "metadata": {},
   "source": [
    "9\\. Normalization\n",
    "\n",
    "Write a function that takes a tuple of numbers and returns it with the entries normalized to one"
   ]
  },
  {
   "cell_type": "code",
   "execution_count": 41,
   "metadata": {},
   "outputs": [
    {
     "name": "stdout",
     "output_type": "stream",
     "text": [
      "[0.48038446141526137, 0.32025630761017426, 0.8006407690254357, 0.16012815380508713]\n"
     ]
    }
   ],
   "source": [
    "def norm(num):\n",
    "    s=0;\n",
    "    for i in range(0,len(num)): s+=num[i]**2\n",
    "    for i in range(0,len(num)): num[i]=num[i]/s**0.5\n",
    "    return num\n",
    " \n",
    "num1=[3,2,5,1]\n",
    "num1=norm(num1)\n",
    "\n",
    "print(num1)"
   ]
  }
 ],
 "metadata": {
  "kernelspec": {
   "display_name": "Python 3",
   "language": "python",
   "name": "python3"
  },
  "language_info": {
   "codemirror_mode": {
    "name": "ipython",
    "version": 3
   },
   "file_extension": ".py",
   "mimetype": "text/x-python",
   "name": "python",
   "nbconvert_exporter": "python",
   "pygments_lexer": "ipython3",
   "version": "3.8.3"
  }
 },
 "nbformat": 4,
 "nbformat_minor": 2
}
