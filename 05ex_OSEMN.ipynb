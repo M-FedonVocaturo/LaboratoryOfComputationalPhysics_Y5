{
 "cells": [
  {
   "cell_type": "markdown",
   "metadata": {},
   "source": [
    "# OSEMN Exercises"
   ]
  },
  {
   "cell_type": "markdown",
   "metadata": {},
   "source": [
    "**One of these excercises will be at the exam!!**\n"
   ]
  },
  {
   "cell_type": "code",
   "execution_count": 1,
   "metadata": {},
   "outputs": [],
   "source": [
    "%matplotlib inline\n",
    "import pandas as pd\n",
    "import numpy as np"
   ]
  },
  {
   "cell_type": "markdown",
   "metadata": {},
   "source": [
    "1\\. Create a random list of number and then save it to a text file named \"simple_data.txt\""
   ]
  },
  {
   "cell_type": "code",
   "execution_count": 26,
   "metadata": {},
   "outputs": [
    {
     "name": "stdout",
     "output_type": "stream",
     "text": [
      "17\n",
      "[0.6519926439051965, 0.05787546918787034, 0.7270669047669789, 0.27321981012403784, 0.7237242327417645, 0.9310277487739684, 0.6494821665766228, 0.8839274477275771, 0.9279997215063868, 0.4059267858953023, 0.08566492009095061, 0.12617551403974414, 0.701349032707355, 0.22675627013170374, 0.9613526436249304, 0.7723913655979069, 0.6847118225283289] 17\n"
     ]
    }
   ],
   "source": [
    "import numpy.random as npr\n",
    "import sys\n",
    "num=npr.randint(10,30)\n",
    "print(num)\n",
    "#list=np.array([npr.rand() for i in range(num)])\n",
    "list2=[npr.rand() for i in range(num)]\n",
    "#print(list,len(list))\n",
    "print(list2,len(list2))\n",
    "\n",
    "f=open(\"simple_data.txt\",\"w\")\n",
    "\n",
    "for n in list2:\n",
    "    f.write(\"%s \\n\" %n)\n",
    "f.close()\n"
   ]
  },
  {
   "cell_type": "code",
   "execution_count": 24,
   "metadata": {},
   "outputs": [
    {
     "name": "stdout",
     "output_type": "stream",
     "text": [
      "00ex_introduction.ipynb\t\t cases_vs_searches.jpeg\n",
      "00_introduction.ipynb\t\t data.h5\n",
      "01ex_Fundamentals.ipynb\t\t example.hdf5\n",
      "01_Fundamentals.ipynb\t\t example.json\n",
      "02ex_NumberRepresentation.ipynb  numpy_broadcasting.png\n",
      "02_NumberRepresentation.ipynb\t numpy_fancy_indexing.png\n",
      "03_Bash.ipynb\t\t\t numpy_indexing.png\n",
      "03ex_Bash.ipynb\t\t\t populations.txt\n",
      "04ex_Numpy.ipynb\t\t README_GitInstructions.md\n",
      "04_Numpy.ipynb\t\t\t README.md\n",
      "05ex_OSEMN.ipynb\t\t simple_data.txt\n",
      "05_OSEMN.ipynb\n",
      "0\n",
      "0\n",
      "0\n",
      "0\n",
      "0\n",
      "0\n",
      "0\n",
      "0\n",
      "0\n",
      "0\n",
      "0\n",
      "0\n",
      "0\n",
      "0\n",
      "0\n",
      "0\n",
      "0\n",
      "0\n",
      "0\n",
      "0\n",
      "0\n",
      "0\n",
      "0\n",
      "0\n",
      "0\n",
      "0\n"
     ]
    }
   ],
   "source": [
    "!ls\n",
    "!cat simple_data.txt"
   ]
  },
  {
   "cell_type": "markdown",
   "metadata": {},
   "source": [
    "2\\. Create a random matrix of 5x5 and then save it to a text file named \"data.txt\""
   ]
  },
  {
   "cell_type": "code",
   "execution_count": 29,
   "metadata": {},
   "outputs": [
    {
     "name": "stdout",
     "output_type": "stream",
     "text": [
      "[[0 8 5 8 7]\n",
      " [0 8 4 3 2]\n",
      " [0 0 4 7 4]\n",
      " [9 0 3 9 5]\n",
      " [3 7 0 2 8]]\n"
     ]
    }
   ],
   "source": [
    "mat=np.random.randint(10,size=(5,5))\n",
    "print(mat)"
   ]
  },
  {
   "cell_type": "code",
   "execution_count": 31,
   "metadata": {},
   "outputs": [],
   "source": [
    "\n",
    "f1=open(\"data.txt\",\"w\")\n",
    "\n",
    "for n in mat:\n",
    "    f1.write(\"%s \\n\" %n)\n",
    "f1.close()"
   ]
  },
  {
   "cell_type": "code",
   "execution_count": 41,
   "metadata": {},
   "outputs": [],
   "source": [
    "with open(\"data2.txt\" , 'wb') as f2:\n",
    "    np.savetxt(f2, mat, delimiter=' ', newline='\\n', header='', footer='', comments='# ')\n"
   ]
  },
  {
   "cell_type": "markdown",
   "metadata": {},
   "source": [
    "https://stackoverflow.com/questions/43133056/saving-numpy-array-to-a-file-without-brackets-and-white-spaces\n",
    "\n",
    "https://numpy.org/doc/stable/reference/generated/numpy.savetxt.html\n",
    "\n",
    "https://www.w3schools.com/python/numpy/numpy_array_iterating.asp"
   ]
  },
  {
   "cell_type": "code",
   "execution_count": 42,
   "metadata": {},
   "outputs": [
    {
     "name": "stdout",
     "output_type": "stream",
     "text": [
      "[0 8 5 8 7] \n",
      "[0 8 4 3 2] \n",
      "[0 0 4 7 4] \n",
      "[9 0 3 9 5] \n",
      "[3 7 0 2 8] \n",
      "0.000000000000000000e+00 8.000000000000000000e+00 5.000000000000000000e+00 8.000000000000000000e+00 7.000000000000000000e+00\n",
      "0.000000000000000000e+00 8.000000000000000000e+00 4.000000000000000000e+00 3.000000000000000000e+00 2.000000000000000000e+00\n",
      "0.000000000000000000e+00 0.000000000000000000e+00 4.000000000000000000e+00 7.000000000000000000e+00 4.000000000000000000e+00\n",
      "9.000000000000000000e+00 0.000000000000000000e+00 3.000000000000000000e+00 9.000000000000000000e+00 5.000000000000000000e+00\n",
      "3.000000000000000000e+00 7.000000000000000000e+00 0.000000000000000000e+00 2.000000000000000000e+00 8.000000000000000000e+00\n"
     ]
    }
   ],
   "source": [
    "!cat data.txt\n",
    "!cat data2.txt"
   ]
  },
  {
   "cell_type": "markdown",
   "metadata": {},
   "source": [
    "3\\. Load the saved txt file of point 2 and convert it to a csv file (by hand)"
   ]
  },
  {
   "cell_type": "code",
   "execution_count": 48,
   "metadata": {},
   "outputs": [
    {
     "name": "stdout",
     "output_type": "stream",
     "text": [
      "[[0. 8. 5. 8. 7.]\n",
      " [0. 8. 4. 3. 2.]\n",
      " [0. 0. 4. 7. 4.]\n",
      " [9. 0. 3. 9. 5.]\n",
      " [3. 7. 0. 2. 8.]]\n"
     ]
    }
   ],
   "source": [
    "data_mat= np.loadtxt('data2.txt')\n",
    "print(data_mat)\n",
    "\n",
    "with open(\"data2_mod.txt\" , 'wb') as f2:\n",
    "    np.savetxt(f2, mat, delimiter=',', newline='\\n', header='', footer='', comments='# ')"
   ]
  },
  {
   "cell_type": "code",
   "execution_count": 72,
   "metadata": {},
   "outputs": [],
   "source": [
    "f3=open(\"data3.txt\",\"w\")\n",
    "\n",
    "for n in data_mat:\n",
    "    for y in n:\n",
    "        if y!=n[len(n)-1]:\n",
    "            f3.write(\"%s,\" %y)\n",
    "        else:f3.write(\"%s\" %y)                 \n",
    "    f3.write('\\n')\n",
    "f3.close()"
   ]
  },
  {
   "cell_type": "code",
   "execution_count": 73,
   "metadata": {},
   "outputs": [
    {
     "name": "stdout",
     "output_type": "stream",
     "text": [
      "0.000000000000000000e+00,8.000000000000000000e+00,5.000000000000000000e+00,8.000000000000000000e+00,7.000000000000000000e+00\n",
      "0.000000000000000000e+00,8.000000000000000000e+00,4.000000000000000000e+00,3.000000000000000000e+00,2.000000000000000000e+00\n",
      "0.000000000000000000e+00,0.000000000000000000e+00,4.000000000000000000e+00,7.000000000000000000e+00,4.000000000000000000e+00\n",
      "9.000000000000000000e+00,0.000000000000000000e+00,3.000000000000000000e+00,9.000000000000000000e+00,5.000000000000000000e+00\n",
      "3.000000000000000000e+00,7.000000000000000000e+00,0.000000000000000000e+00,2.000000000000000000e+00,8.000000000000000000e+00\n",
      "0.0,8.0,5.0,8.0,7.0\n",
      "0.0,8.0,4.0,3.0,2.0\n",
      "0.0,0.0,4.07.0,4.0\n",
      "9.0,0.0,3.0,9.0,5.0\n",
      "3.0,7.0,0.0,2.0,8.0\n"
     ]
    }
   ],
   "source": [
    "!cat data2_mod.txt\n",
    "!cat data3.txt"
   ]
  },
  {
   "cell_type": "markdown",
   "metadata": {},
   "source": [
    "4\\. load the binary file named *credit_card.dat* and convert the data into the real credit-card number.\n",
    "Each line correspond to a credit card number.\n",
    "Each character is composed by 6 bit (even the space) and the last 4 bit are just a padding\n",
    "\n",
    "\n",
    "4bit at the end of each LINE must be ignored!!\n",
    "**hint**: use the `chr()` function to convert a number to a char"
   ]
  },
  {
   "cell_type": "code",
   "execution_count": 32,
   "metadata": {},
   "outputs": [
    {
     "ename": "error",
     "evalue": "unpack requires a buffer of 2 bytes",
     "output_type": "error",
     "traceback": [
      "\u001b[0;31m---------------------------------------------------------------------------\u001b[0m",
      "\u001b[0;31merror\u001b[0m                                     Traceback (most recent call last)",
      "\u001b[0;32m<ipython-input-32-6d04b1a422d2>\u001b[0m in \u001b[0;36m<module>\u001b[0;34m\u001b[0m\n\u001b[1;32m      6\u001b[0m     \u001b[0mnum_size\u001b[0m\u001b[0;34m=\u001b[0m\u001b[0;36m6\u001b[0m\u001b[0;34m\u001b[0m\u001b[0;34m\u001b[0m\u001b[0m\n\u001b[1;32m      7\u001b[0m \u001b[0;34m\u001b[0m\u001b[0m\n\u001b[0;32m----> 8\u001b[0;31m     \u001b[0mthisInt\u001b[0m \u001b[0;34m=\u001b[0m \u001b[0mstruct\u001b[0m\u001b[0;34m.\u001b[0m\u001b[0munpack\u001b[0m\u001b[0;34m(\u001b[0m\u001b[0;34m\"H\"\u001b[0m\u001b[0;34m,\u001b[0m \u001b[0mfile_content\u001b[0m\u001b[0;34m[\u001b[0m\u001b[0;36m0\u001b[0m\u001b[0;34m:\u001b[0m\u001b[0;36m6\u001b[0m\u001b[0;34m]\u001b[0m\u001b[0;34m)\u001b[0m\u001b[0;34m\u001b[0m\u001b[0;34m\u001b[0m\u001b[0m\n\u001b[0m\u001b[1;32m      9\u001b[0m \u001b[0;31m#    for i in range(0, len(file_content),num_size):\u001b[0m\u001b[0;34m\u001b[0m\u001b[0;34m\u001b[0m\u001b[0;34m\u001b[0m\u001b[0m\n\u001b[1;32m     10\u001b[0m  \u001b[0;31m#       thisInt = struct.unpack('', file_content[i:i+num_size+4])[0]\u001b[0m\u001b[0;34m\u001b[0m\u001b[0;34m\u001b[0m\u001b[0;34m\u001b[0m\u001b[0m\n",
      "\u001b[0;31merror\u001b[0m: unpack requires a buffer of 2 bytes"
     ]
    }
   ],
   "source": [
    "import struct\n",
    "\n",
    "with open(\"credit_card.dat\",'rb') as file:\n",
    "    file_content=file.read()\n",
    "    num_counter=0\n",
    "    num_size=6\n",
    "    \n",
    "    thisInt = struct.unpack(\"H\", file_content[0:6])\n",
    "#    for i in range(0, len(file_content),num_size):\n",
    " #       thisInt = struct.unpack('', file_content[i:i+num_size+4])[0]\n",
    "\n",
    "                                \n",
    "    file.close()\n",
    "print(num_counter)"
   ]
  },
  {
   "cell_type": "markdown",
   "metadata": {},
   "source": [
    "5\\. Load the file \"user_data.json\", filter the data by the \"CreditCardType\" field equals to \"American Express\". Than save the data a to CSV."
   ]
  },
  {
   "cell_type": "markdown",
   "metadata": {},
   "source": [
    "6\\. Load the file from this url: [https://www.dropbox.com/s/7u3lm737ogbqsg8/mushrooms_categorized.csv?dl=1](https://www.dropbox.com/s/7u3lm737ogbqsg8/mushrooms_categorized.csv?dl=1) with Pandas. \n",
    "+ Explore the data (see the info of the data)\n",
    "+ Draw the istogram of the 'class' field. Decribe wath yuou see\n"
   ]
  },
  {
   "cell_type": "markdown",
   "metadata": {},
   "source": [
    "7\\. Load the remote file [https://www.dropbox.com/s/vkl89yce7xjdq4n/regression_generated.csv?dl=1](https://www.dropbox.com/s/vkl89yce7xjdq4n/regression_generated.csv?dl=1) with Pandas and plot a scatter plot all possible combination of the following fields:\n",
    "    \n",
    "  + features_1\n",
    "  + features_2\n",
    "  + features_3"
   ]
  },
  {
   "cell_type": "markdown",
   "metadata": {},
   "source": [
    "8\\. Load the same file of point 6, and convert the file to json with Pandas."
   ]
  }
 ],
 "metadata": {
  "kernelspec": {
   "display_name": "Python 3",
   "language": "python",
   "name": "python3"
  },
  "language_info": {
   "codemirror_mode": {
    "name": "ipython",
    "version": 3
   },
   "file_extension": ".py",
   "mimetype": "text/x-python",
   "name": "python",
   "nbconvert_exporter": "python",
   "pygments_lexer": "ipython3",
   "version": "3.8.3"
  }
 },
 "nbformat": 4,
 "nbformat_minor": 2
}
